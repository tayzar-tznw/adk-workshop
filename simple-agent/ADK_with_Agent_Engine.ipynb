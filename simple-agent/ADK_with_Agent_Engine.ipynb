{
  "cells": [
    {
      "cell_type": "markdown",
      "metadata": {
        "id": "E29jokLY8VRH"
      },
      "source": [
        "# Download and install the ADK and Agent Engine SDK"
      ]
    },
    {
      "cell_type": "code",
      "execution_count": null,
      "metadata": {
        "colab": {
          "base_uri": "https://localhost:8080/"
        },
        "id": "6m5qVqvHVVlh",
        "outputId": "546a2f0b-f935-4d81-8afe-fcd397326e21"
      },
      "outputs": [
        {
          "name": "stdout",
          "output_type": "stream",
          "text": [
            "\u001b[31mERROR: pip's dependency resolver does not currently take into account all the packages that are installed. This behaviour is the source of the following dependency conflicts.\n",
            "tensorflow 2.18.0 requires numpy<2.1.0,>=1.26.0, but you have numpy 2.2.4 which is incompatible.\n",
            "pyopenssl 24.2.1 requires cryptography<44,>=41.0.5, but you have cryptography 44.0.2 which is incompatible.\n",
            "pydrive2 1.21.3 requires cryptography<44, but you have cryptography 44.0.2 which is incompatible.\n",
            "numba 0.60.0 requires numpy<2.1,>=1.22, but you have numpy 2.2.4 which is incompatible.\n",
            "torch 2.6.0+cu124 requires nvidia-cublas-cu12==12.4.5.8; platform_system == \"Linux\" and platform_machine == \"x86_64\", but you have nvidia-cublas-cu12 12.5.3.2 which is incompatible.\n",
            "torch 2.6.0+cu124 requires nvidia-cuda-cupti-cu12==12.4.127; platform_system == \"Linux\" and platform_machine == \"x86_64\", but you have nvidia-cuda-cupti-cu12 12.5.82 which is incompatible.\n",
            "torch 2.6.0+cu124 requires nvidia-cuda-nvrtc-cu12==12.4.127; platform_system == \"Linux\" and platform_machine == \"x86_64\", but you have nvidia-cuda-nvrtc-cu12 12.5.82 which is incompatible.\n",
            "torch 2.6.0+cu124 requires nvidia-cuda-runtime-cu12==12.4.127; platform_system == \"Linux\" and platform_machine == \"x86_64\", but you have nvidia-cuda-runtime-cu12 12.5.82 which is incompatible.\n",
            "torch 2.6.0+cu124 requires nvidia-cudnn-cu12==9.1.0.70; platform_system == \"Linux\" and platform_machine == \"x86_64\", but you have nvidia-cudnn-cu12 9.3.0.75 which is incompatible.\n",
            "torch 2.6.0+cu124 requires nvidia-cufft-cu12==11.2.1.3; platform_system == \"Linux\" and platform_machine == \"x86_64\", but you have nvidia-cufft-cu12 11.2.3.61 which is incompatible.\n",
            "torch 2.6.0+cu124 requires nvidia-curand-cu12==10.3.5.147; platform_system == \"Linux\" and platform_machine == \"x86_64\", but you have nvidia-curand-cu12 10.3.6.82 which is incompatible.\n",
            "torch 2.6.0+cu124 requires nvidia-cusolver-cu12==11.6.1.9; platform_system == \"Linux\" and platform_machine == \"x86_64\", but you have nvidia-cusolver-cu12 11.6.3.83 which is incompatible.\n",
            "torch 2.6.0+cu124 requires nvidia-cusparse-cu12==12.3.1.170; platform_system == \"Linux\" and platform_machine == \"x86_64\", but you have nvidia-cusparse-cu12 12.5.1.3 which is incompatible.\n",
            "torch 2.6.0+cu124 requires nvidia-nvjitlink-cu12==12.4.127; platform_system == \"Linux\" and platform_machine == \"x86_64\", but you have nvidia-nvjitlink-cu12 12.5.82 which is incompatible.\u001b[0m\u001b[31m\n",
            "\u001b[0m"
          ]
        }
      ],
      "source": [
        "!pip3 install google-cloud-aiplatform[agent_engines,adk]==1.88 --force-reinstall --quiet"
      ]
    },
    {
      "cell_type": "markdown",
      "metadata": {
        "id": "osm6MztSEX2y"
      },
      "source": [
        "# Initialization"
      ]
    },
    {
      "cell_type": "code",
      "execution_count": null,
      "metadata": {
        "id": "eHqvFbvjyRUG"
      },
      "outputs": [],
      "source": [
        "import vertexai\n",
        "from vertexai import agent_engines\n",
        "from vertexai.preview.reasoning_engines import AdkApp\n",
        "\n",
        "PROJECT_ID = \"reasoning-engine-test-1\" #@param {type:\"string\"}\n",
        "STAGING_BUCKET = \"gs://reasoning-engine-test-1-bucket\" #@param {type:\"string\"}\n",
        "LOCATION = \"us-central1\" #@param {type:\"string\"}\n",
        "\n",
        "vertexai.init(\n",
        "    project=PROJECT_ID,\n",
        "    location=LOCATION,\n",
        "    staging_bucket=STAGING_BUCKET,\n",
        ")"
      ]
    },
    {
      "cell_type": "markdown",
      "metadata": {
        "id": "1-rAplcsx22u"
      },
      "source": [
        "# Defining functions\n",
        "roll_die - rolls dice to create random number\n",
        "\n",
        "check_prime - checks if a number is prime"
      ]
    },
    {
      "cell_type": "code",
      "execution_count": null,
      "metadata": {
        "id": "l1G9gtSDw8yt"
      },
      "outputs": [],
      "source": [
        "def roll_die(sides: int) -> int:\n",
        "  \"\"\"Roll a die and return the rolled result.\n",
        "\n",
        "  Args:\n",
        "    sides: The integer number of sides the die has.\n",
        "\n",
        "  Returns:\n",
        "    An integer of the result of rolling the die.\n",
        "  \"\"\"\n",
        "  import random\n",
        "\n",
        "  return random.randint(1, sides)"
      ]
    },
    {
      "cell_type": "code",
      "execution_count": null,
      "metadata": {
        "id": "X4buHPVnxA1P"
      },
      "outputs": [],
      "source": [
        "def check_prime(nums: list[int]) -> list[str]:\n",
        "  \"\"\"Check if a given list of numbers are prime.\n",
        "\n",
        "  Args:\n",
        "    nums: The list of numbers to check.\n",
        "\n",
        "  Returns:\n",
        "    A str indicating which number is prime.\n",
        "  \"\"\"\n",
        "\n",
        "  primes = set()\n",
        "  for number in nums:\n",
        "    number = int(number)\n",
        "    if number <= 1:\n",
        "      continue\n",
        "    is_prime = True\n",
        "    for i in range(2, int(number**0.5) + 1):\n",
        "      if number % i == 0:\n",
        "        is_prime = False\n",
        "        break\n",
        "    if is_prime:\n",
        "      primes.add(number)\n",
        "  return (\n",
        "      'No prime numbers found.'\n",
        "      if not primes\n",
        "      else f\"{', '.join(str(num) for num in primes)} are prime numbers.\"\n",
        "  )"
      ]
    },
    {
      "cell_type": "markdown",
      "metadata": {
        "id": "meW7SNrTyCgn"
      },
      "source": [
        "# Define an agent in the agent framework\n",
        "\n",
        "An AI agent reasons, plans, and takes actions. The agent takes actions via access to **tools**, deciding how and when to invoke a tool. The agent also manages orchestration, creating a plan for answering a user query and adapting to responses that aren't quite correct.\n",
        "\n",
        "Create a simple agent. An agent requires two things: a display name and a set of instructions. The instructions should be detailed, making it clear exactly how the agent should behave.\n",
        "\n"
      ]
    },
    {
      "cell_type": "code",
      "execution_count": null,
      "metadata": {
        "colab": {
          "base_uri": "https://localhost:8080/"
        },
        "id": "qgSJyIHvyWWY",
        "outputId": "c40c06ac-4acd-437a-c74b-57b5a8b747ab"
      },
      "outputs": [
        {
          "data": {
            "text/plain": [
              "<vertexai.preview.reasoning_engines.templates.adk.AdkApp at 0x7a8194d7f790>"
            ]
          },
          "execution_count": 4,
          "metadata": {},
          "output_type": "execute_result"
        }
      ],
      "source": [
        "from google.adk.agents import Agent\n",
        "\n",
        "agent = Agent(\n",
        "    model=\"gemini-1.5-flash-002\",\n",
        "    name='data_processing_agent',\n",
        "    instruction=\"\"\"\n",
        "      You roll dice and answer questions about the outcome of the dice rolls.\n",
        "      You can roll dice of different sizes.\n",
        "      You can use multiple tools in parallel by calling functions in parallel(in one request and in one round).\n",
        "      The only things you do are roll dice for the user and discuss the outcomes.\n",
        "      It is ok to discuss previous dice roles, and comment on the dice rolls.\n",
        "      When you are asked to roll a die, you must call the roll_die tool with the number of sides. Be sure to pass in an integer. Do not pass in a string.\n",
        "      You should never roll a die on your own.\n",
        "      When checking prime numbers, call the check_prime tool with a list of integers. Be sure to pass in a list of integers. You should never pass in a string.\n",
        "      You should not check prime numbers before calling the tool.\n",
        "      When you are asked to roll a die and check prime numbers, you should always make the following two function calls:\n",
        "      1. You should first call the roll_die tool to get a roll. Wait for the function response before calling the check_prime tool.\n",
        "      2. After you get the function response from roll_die tool, you should call the check_prime tool with the roll_die result.\n",
        "        2.1 If user asks you to check primes based on previous rolls, make sure you include the previous rolls in the list.\n",
        "      3. When you respond, you must include the roll_die result from step 1.\n",
        "      You should always perform the previous 3 steps when asking for a roll and checking prime numbers.\n",
        "      You should not rely on the previous history on prime results.\n",
        "    \"\"\",\n",
        "    tools=[roll_die, check_prime],\n",
        ")\n",
        "\n",
        "app = AdkApp(\n",
        "    agent=agent,\n",
        "    enable_tracing=True,\n",
        ")\n",
        "\n",
        "app"
      ]
    },
    {
      "cell_type": "markdown",
      "metadata": {
        "id": "4yRbuebi-Zh6"
      },
      "source": [
        "# Let's try it (locally)\n",
        "\n",
        "Under the hood, `app: AdkApp` will be using an in-memory session store when running locally.\n",
        "\n",
        "**Remark**: the operations below (i.e., `.create_session`, `.list_sessions`, `.get_session`, `.stream_query`) are only supported by the `reasoning_engines.AdkApp` class, not the `google.adk.agents.Agent` class."
      ]
    },
    {
      "cell_type": "code",
      "execution_count": null,
      "metadata": {
        "colab": {
          "base_uri": "https://localhost:8080/"
        },
        "id": "Zkymo9fmyWY_",
        "outputId": "26fbfae0-e6b1-41b7-ce72-f3444412c492"
      },
      "outputs": [
        {
          "data": {
            "text/plain": [
              "Session(id='999dd8fc-6267-4303-b3c2-053e08e21a08', app_name='default-app-name', user_id='ysian', state={}, events=[], last_update_time=1744165185.8415737)"
            ]
          },
          "execution_count": 5,
          "metadata": {},
          "output_type": "execute_result"
        }
      ],
      "source": [
        "session = app.create_session(user_id=\"ysian\")\n",
        "session"
      ]
    },
    {
      "cell_type": "code",
      "execution_count": null,
      "metadata": {
        "colab": {
          "base_uri": "https://localhost:8080/"
        },
        "id": "tRo1Yb-TyWc9",
        "outputId": "d878d950-d971-4411-e5c6-3218ca67f94b"
      },
      "outputs": [
        {
          "data": {
            "text/plain": [
              "ListSessionsResponse(sessions=[Session(id='999dd8fc-6267-4303-b3c2-053e08e21a08', app_name='default-app-name', user_id='ysian', state={}, events=[], last_update_time=1744165185.8415737)])"
            ]
          },
          "execution_count": 6,
          "metadata": {},
          "output_type": "execute_result"
        }
      ],
      "source": [
        "app.list_sessions(user_id=\"ysian\")"
      ]
    },
    {
      "cell_type": "code",
      "execution_count": null,
      "metadata": {
        "colab": {
          "base_uri": "https://localhost:8080/"
        },
        "id": "XHbEizi-2u8I",
        "outputId": "2c72230e-c843-46e7-f00b-d48df801364c"
      },
      "outputs": [
        {
          "data": {
            "text/plain": [
              "Session(id='999dd8fc-6267-4303-b3c2-053e08e21a08', app_name='default-app-name', user_id='ysian', state={}, events=[], last_update_time=1744165185.8415737)"
            ]
          },
          "execution_count": 7,
          "metadata": {},
          "output_type": "execute_result"
        }
      ],
      "source": [
        "session = app.get_session(user_id=\"ysian\", session_id=session.id)\n",
        "session"
      ]
    },
    {
      "cell_type": "code",
      "execution_count": null,
      "metadata": {
        "colab": {
          "base_uri": "https://localhost:8080/"
        },
        "id": "BR6naQrl2u_a",
        "outputId": "127f81d1-787d-4702-bbf6-54f6ef6b78c7"
      },
      "outputs": [
        {
          "name": "stderr",
          "output_type": "stream",
          "text": [
            "WARNING:google_genai.types:Warning: there are non-text parts in the response: ['function_call'],returning concatenated text result from text parts,check out the non text parts for full response from model.\n"
          ]
        },
        {
          "name": "stdout",
          "output_type": "stream",
          "text": [
            "{'content': {'parts': [{'function_call': {'id': 'adk-af72fb97-b7f1-49ad-b1d1-ff7080057845', 'args': {'sides': 2}, 'name': 'roll_die'}}], 'role': 'model'}, 'invocation_id': 'e-9e9eff34-57a0-4499-95f2-7bb7d4b5f6d7', 'author': 'data_processing_agent', 'actions': {'state_delta': {}, 'artifact_delta': {}, 'requested_auth_configs': {}}, 'long_running_tool_ids': set(), 'id': 'Z6gGVyXx', 'timestamp': 1744165186.27417}\n",
            "{'content': {'parts': [{'function_response': {'id': 'adk-af72fb97-b7f1-49ad-b1d1-ff7080057845', 'name': 'roll_die', 'response': {'result': 2}}}], 'role': 'user'}, 'invocation_id': 'e-9e9eff34-57a0-4499-95f2-7bb7d4b5f6d7', 'author': 'data_processing_agent', 'actions': {'state_delta': {}, 'artifact_delta': {}, 'requested_auth_configs': {}}, 'id': 'baRbhg5m', 'timestamp': 1744165187.380104}\n",
            "{'content': {'parts': [{'text': 'I rolled a 2 sided die and got a 2.\\n'}], 'role': 'model'}, 'invocation_id': 'e-9e9eff34-57a0-4499-95f2-7bb7d4b5f6d7', 'author': 'data_processing_agent', 'actions': {'state_delta': {}, 'artifact_delta': {}, 'requested_auth_configs': {}}, 'id': 'nJdrXsj1', 'timestamp': 1744165187.385528}\n"
          ]
        }
      ],
      "source": [
        "for event in app.stream_query(\n",
        "    user_id=\"ysian\",\n",
        "    session_id=session.id,\n",
        "    message=\"roll a 2 sided die\",\n",
        "):\n",
        "    print(event)"
      ]
    },
    {
      "cell_type": "markdown",
      "metadata": {
        "id": "iUE7ygI6cfOk"
      },
      "source": [
        "You can navigate to https://pantheon.corp.google.com/traces/explorer;project=reasoning-engine-test-1 to view the traces for it (they might take some time to show up).\n",
        "* If you don't have the permissions to view them in Cloud Trace, please follow the instructions in https://cloud.google.com/trace/docs/finding-traces#before_you_begin to grant yourself permission to use Trace Explorer with the project."
      ]
    },
    {
      "cell_type": "markdown",
      "metadata": {
        "id": "VijvAI4TZp8H"
      },
      "source": [
        "# Deploy to Vertex AI Agent Engine\n",
        "To call and manage ADK applications in production, deploy the `app` to Vertex AI Agent Engine."
      ]
    },
    {
      "cell_type": "markdown",
      "metadata": {
        "id": "X5ZY4ERG5ytI"
      },
      "source": [
        "## AdkApp deployment"
      ]
    },
    {
      "cell_type": "code",
      "execution_count": null,
      "metadata": {
        "colab": {
          "base_uri": "https://localhost:8080/"
        },
        "id": "enNZwvEUXt6o",
        "outputId": "48d85fbc-1d6e-4526-f1c8-4184a217a667"
      },
      "outputs": [
        {
          "name": "stderr",
          "output_type": "stream",
          "text": [
            "INFO:vertexai.agent_engines:Identified the following requirements: {'cloudpickle': '3.1.1', 'google-cloud-aiplatform': '1.88.0'}\n",
            "WARNING:vertexai.agent_engines:The following requirements are missing: {'cloudpickle'}\n",
            "INFO:vertexai.agent_engines:The following requirements are appended: {'cloudpickle==3.1.1'}\n",
            "INFO:vertexai.agent_engines:The final list of requirements: ['google-cloud-aiplatform[agent_engines,adk]>=1.88', 'cloudpickle==3.1.1']\n",
            "INFO:vertexai.agent_engines:Using bucket reasoning-engine-test-1-bucket\n",
            "INFO:vertexai.agent_engines:Wrote to gs://reasoning-engine-test-1-bucket/agent_engine/agent_engine.pkl\n",
            "INFO:vertexai.agent_engines:Writing to gs://reasoning-engine-test-1-bucket/agent_engine/requirements.txt\n",
            "INFO:vertexai.agent_engines:Creating in-memory tarfile of extra_packages\n",
            "INFO:vertexai.agent_engines:Writing to gs://reasoning-engine-test-1-bucket/agent_engine/dependencies.tar.gz\n",
            "INFO:vertexai.agent_engines:Creating AgentEngine\n",
            "INFO:vertexai.agent_engines:Create AgentEngine backing LRO: projects/349765473021/locations/us-central1/reasoningEngines/903684208822583296/operations/3852212758271492096\n",
            "INFO:vertexai.agent_engines:View progress and logs at https://console.cloud.google.com/logs/query?project=reasoning-engine-test-1\n",
            "INFO:vertexai.agent_engines:AgentEngine created. Resource name: projects/349765473021/locations/us-central1/reasoningEngines/903684208822583296\n",
            "INFO:vertexai.agent_engines:To use this AgentEngine in another session:\n",
            "INFO:vertexai.agent_engines:agent_engine = vertexai.agent_engines.get('projects/349765473021/locations/us-central1/reasoningEngines/903684208822583296')\n"
          ]
        }
      ],
      "source": [
        "remote_app1 = agent_engines.create(\n",
        "    app,\n",
        "    requirements=[\"google-cloud-aiplatform[agent_engines,adk]>=1.88\"],\n",
        ")"
      ]
    },
    {
      "cell_type": "markdown",
      "metadata": {
        "id": "eK4He7dV_g13"
      },
      "source": [
        "**Remark**: You can ignore the following warnings:\n",
        "* (i) `WARNING:vertexai.agent_engines:Failed to parse constraint: ` and\n",
        "* (ii) `WARNING:vertexai.agent_engines:The following requirements are missing: {'cloudpickle'}`\n",
        "\n",
        "We have auto-heal mechanisms to still reflect them in the final list of requirements: `INFO:vertexai.agent_engines:The final list of requirements`"
      ]
    },
    {
      "cell_type": "markdown",
      "metadata": {
        "id": "bPuswSHLhF_Q"
      },
      "source": [
        "**Remark**: The automatic provisioning of permissions for Vertex AI Sessions have not rolled out yet, so you'll have to follow https://cloud.google.com/vertex-ai/generative-ai/docs/agent-engine/set-up#service-agent in the meantime to grant \"Vertex AI User\" (`roles/aiplatform.user`) to the service account in your GCP project"
      ]
    },
    {
      "cell_type": "markdown",
      "metadata": {
        "id": "CVpEYofPsaA6"
      },
      "source": [
        "## adk.agents.Agent deployment\n",
        "\n",
        "Alternatively, you can deploy the `agent` directly without wrapping it into an `AdkApp`. The agent engine SDK will do the necessary transformations for you under-the-hood."
      ]
    },
    {
      "cell_type": "code",
      "execution_count": null,
      "metadata": {
        "colab": {
          "base_uri": "https://localhost:8080/"
        },
        "id": "CVJbsQfJ71eP",
        "outputId": "afa25c8d-fef0-462b-964b-eda6b6aea1c4"
      },
      "outputs": [
        {
          "name": "stderr",
          "output_type": "stream",
          "text": [
            "INFO:vertexai.agent_engines:Deploying google.adk.agents.Agent as an application.\n",
            "INFO:vertexai.agent_engines:Identified the following requirements: {'cloudpickle': '3.1.1', 'google-cloud-aiplatform': '1.88.0'}\n",
            "WARNING:vertexai.agent_engines:The following requirements are missing: {'cloudpickle'}\n",
            "INFO:vertexai.agent_engines:The following requirements are appended: {'cloudpickle==3.1.1'}\n",
            "INFO:vertexai.agent_engines:The final list of requirements: ['google-cloud-aiplatform[agent_engines,adk]>=1.88', 'cloudpickle==3.1.1']\n",
            "INFO:vertexai.agent_engines:Using bucket reasoning-engine-test-1-bucket\n",
            "INFO:vertexai.agent_engines:Wrote to gs://reasoning-engine-test-1-bucket/agent_engine/agent_engine.pkl\n",
            "INFO:vertexai.agent_engines:Writing to gs://reasoning-engine-test-1-bucket/agent_engine/requirements.txt\n",
            "INFO:vertexai.agent_engines:Creating in-memory tarfile of extra_packages\n",
            "INFO:vertexai.agent_engines:Writing to gs://reasoning-engine-test-1-bucket/agent_engine/dependencies.tar.gz\n",
            "INFO:vertexai.agent_engines:Creating AgentEngine\n",
            "INFO:vertexai.agent_engines:Create AgentEngine backing LRO: projects/349765473021/locations/us-central1/reasoningEngines/3511268393070100480/operations/1152304781662879744\n",
            "INFO:vertexai.agent_engines:View progress and logs at https://console.cloud.google.com/logs/query?project=reasoning-engine-test-1\n",
            "INFO:vertexai.agent_engines:AgentEngine created. Resource name: projects/349765473021/locations/us-central1/reasoningEngines/3511268393070100480\n",
            "INFO:vertexai.agent_engines:To use this AgentEngine in another session:\n",
            "INFO:vertexai.agent_engines:agent_engine = vertexai.agent_engines.get('projects/349765473021/locations/us-central1/reasoningEngines/3511268393070100480')\n"
          ]
        }
      ],
      "source": [
        "# Alternatively\n",
        "remote_app2 = agent_engines.create(\n",
        "    agent,\n",
        "    requirements=[\"google-cloud-aiplatform[agent_engines,adk]>=1.88\"],\n",
        ")"
      ]
    },
    {
      "cell_type": "markdown",
      "metadata": {
        "id": "TSVVwFJZ_5q7"
      },
      "source": [
        "**Remark**: You can ignore the following warnings:\n",
        "* (i) `WARNING:vertexai.agent_engines:Failed to parse constraint: ` and\n",
        "* (ii) `WARNING:vertexai.agent_engines:The following requirements are missing: {'cloudpickle'}`\n",
        "\n",
        "We have auto-heal mechanisms to still reflect them in the final list of requirements: `INFO:vertexai.agent_engines:The final list of requirements`"
      ]
    },
    {
      "cell_type": "markdown",
      "metadata": {
        "id": "p_XwRoRShcDQ"
      },
      "source": [
        "**Remark**: The automatic provisioning of permissions for Vertex AI Sessions have not rolled out yet, so you'll have to follow https://cloud.google.com/vertex-ai/generative-ai/docs/agent-engine/set-up#service-agent in the meantime to grant \"Vertex AI User\" (`roles/aiplatform.user`) to the service account in your GCP project"
      ]
    },
    {
      "cell_type": "markdown",
      "metadata": {
        "id": "1ItR7ekDraxK"
      },
      "source": [
        "# Let's try it (remotely)"
      ]
    },
    {
      "cell_type": "markdown",
      "metadata": {
        "id": "zXdbT5y4aWdh"
      },
      "source": [
        "## Remote AdkApp"
      ]
    },
    {
      "cell_type": "code",
      "execution_count": null,
      "metadata": {
        "colab": {
          "base_uri": "https://localhost:8080/"
        },
        "id": "6lviXEuUlTkP",
        "outputId": "21abb5bf-e400-440f-c18d-6b8ad84f1180"
      },
      "outputs": [
        {
          "name": "stdout",
          "output_type": "stream",
          "text": [
            "[{'api_mode': '',\n",
            "  'description': 'Get a session for the given user.\\n'\n",
            "                 '\\n'\n",
            "                 '        Args:\\n'\n",
            "                 '            user_id (str):\\n'\n",
            "                 '                Required. The ID of the user.\\n'\n",
            "                 '            session_id (str):\\n'\n",
            "                 '                Required. The ID of the session.\\n'\n",
            "                 '            **kwargs (dict[str, Any]):\\n'\n",
            "                 '                Optional. Additional keyword arguments to '\n",
            "                 'pass to the\\n'\n",
            "                 '                session service.\\n'\n",
            "                 '\\n'\n",
            "                 '        Returns:\\n'\n",
            "                 '            Session: The session instance (if any). It '\n",
            "                 'returns None if the\\n'\n",
            "                 '            session is not found.\\n'\n",
            "                 '\\n'\n",
            "                 '        Raises:\\n'\n",
            "                 '            RuntimeError: If the session is not found.\\n'\n",
            "                 '        ',\n",
            "  'name': 'get_session',\n",
            "  'parameters': {'properties': {'session_id': {'type': 'string'},\n",
            "                                'user_id': {'type': 'string'}},\n",
            "                 'required': ['user_id', 'session_id'],\n",
            "                 'type': 'object'}},\n",
            " {'api_mode': '',\n",
            "  'description': 'List sessions for the given user.\\n'\n",
            "                 '\\n'\n",
            "                 '        Args:\\n'\n",
            "                 '            user_id (str):\\n'\n",
            "                 '                Required. The ID of the user.\\n'\n",
            "                 '            **kwargs (dict[str, Any]):\\n'\n",
            "                 '                Optional. Additional keyword arguments to '\n",
            "                 'pass to the\\n'\n",
            "                 '                session service.\\n'\n",
            "                 '\\n'\n",
            "                 '        Returns:\\n'\n",
            "                 '            ListSessionsResponse: The list of sessions.\\n'\n",
            "                 '        ',\n",
            "  'name': 'list_sessions',\n",
            "  'parameters': {'properties': {'user_id': {'type': 'string'}},\n",
            "                 'required': ['user_id'],\n",
            "                 'type': 'object'}},\n",
            " {'api_mode': '',\n",
            "  'description': 'Creates a new session.\\n'\n",
            "                 '\\n'\n",
            "                 '        Args:\\n'\n",
            "                 '            user_id (str):\\n'\n",
            "                 '                Required. The ID of the user.\\n'\n",
            "                 '            session_id (str):\\n'\n",
            "                 '                Optional. The ID of the session. If not '\n",
            "                 'provided, an ID\\n'\n",
            "                 '                will be be generated for the session.\\n'\n",
            "                 '            state (dict[str, Any]):\\n'\n",
            "                 '                Optional. The initial state of the session.\\n'\n",
            "                 '            **kwargs (dict[str, Any]):\\n'\n",
            "                 '                Optional. Additional keyword arguments to '\n",
            "                 'pass to the\\n'\n",
            "                 '                session service.\\n'\n",
            "                 '\\n'\n",
            "                 '        Returns:\\n'\n",
            "                 '            Session: The newly created session instance.\\n'\n",
            "                 '        ',\n",
            "  'name': 'create_session',\n",
            "  'parameters': {'properties': {'session_id': {'nullable': True,\n",
            "                                               'type': 'string'},\n",
            "                                'state': {'nullable': True, 'type': 'object'},\n",
            "                                'user_id': {'type': 'string'}},\n",
            "                 'required': ['user_id'],\n",
            "                 'type': 'object'}},\n",
            " {'api_mode': '',\n",
            "  'description': 'Deletes a session for the given user.\\n'\n",
            "                 '\\n'\n",
            "                 '        Args:\\n'\n",
            "                 '            user_id (str):\\n'\n",
            "                 '                Required. The ID of the user.\\n'\n",
            "                 '            session_id (str):\\n'\n",
            "                 '                Required. The ID of the session.\\n'\n",
            "                 '            **kwargs (dict[str, Any]):\\n'\n",
            "                 '                Optional. Additional keyword arguments to '\n",
            "                 'pass to the\\n'\n",
            "                 '                session service.\\n'\n",
            "                 '        ',\n",
            "  'name': 'delete_session',\n",
            "  'parameters': {'properties': {'session_id': {'type': 'string'},\n",
            "                                'user_id': {'type': 'string'}},\n",
            "                 'required': ['user_id', 'session_id'],\n",
            "                 'type': 'object'}},\n",
            " {'api_mode': 'stream',\n",
            "  'description': 'Streams responses from the ADK application in response to a '\n",
            "                 'message.\\n'\n",
            "                 '\\n'\n",
            "                 '        Args:\\n'\n",
            "                 '            message (str):\\n'\n",
            "                 '                Required. The message to stream responses '\n",
            "                 'for.\\n'\n",
            "                 '            user_id (str):\\n'\n",
            "                 '                Required. The ID of the user.\\n'\n",
            "                 '            session_id (str):\\n'\n",
            "                 '                Optional. The ID of the session. If not '\n",
            "                 'provided, a new\\n'\n",
            "                 '                session will be created for the user.\\n'\n",
            "                 '            **kwargs (dict[str, Any]):\\n'\n",
            "                 '                Optional. Additional keyword arguments to '\n",
            "                 'pass to the\\n'\n",
            "                 '                runner.\\n'\n",
            "                 '\\n'\n",
            "                 '        Yields:\\n'\n",
            "                 '            The output of querying the ADK application.\\n'\n",
            "                 '        ',\n",
            "  'name': 'stream_query',\n",
            "  'parameters': {'properties': {'message': {'type': 'string'},\n",
            "                                'session_id': {'nullable': True,\n",
            "                                               'type': 'string'},\n",
            "                                'user_id': {'type': 'string'}},\n",
            "                 'required': ['message', 'user_id'],\n",
            "                 'type': 'object'}},\n",
            " {'api_mode': 'stream',\n",
            "  'description': None,\n",
            "  'name': 'streaming_agent_run_with_events',\n",
            "  'parameters': {'properties': {'request_json': {'type': 'string'}},\n",
            "                 'required': ['request_json'],\n",
            "                 'type': 'object'}}]\n"
          ]
        }
      ],
      "source": [
        "import pprint\n",
        "\n",
        "pprint.pprint(remote_app1.operation_schemas())"
      ]
    },
    {
      "cell_type": "code",
      "execution_count": null,
      "metadata": {
        "colab": {
          "base_uri": "https://localhost:8080/"
        },
        "id": "B9R4GKDkcY6C",
        "outputId": "932a57f9-c2ea-4a97-9c5c-61a1bd4fdaca"
      },
      "outputs": [
        {
          "data": {
            "text/plain": [
              "{'events': [],\n",
              " 'user_id': 'ysian',\n",
              " 'state': {},\n",
              " 'id': '707008516648337408',\n",
              " 'app_name': '903684208822583296',\n",
              " 'last_update_time': 1744165437.450694}"
            ]
          },
          "execution_count": 11,
          "metadata": {},
          "output_type": "execute_result"
        }
      ],
      "source": [
        "session1 = remote_app1.create_session(user_id=\"ysian\")\n",
        "session1"
      ]
    },
    {
      "cell_type": "markdown",
      "metadata": {
        "id": "3fFyPPIQheDN"
      },
      "source": [
        "**Remark**: The automatic provisioning of permissions for Vertex AI Sessions have not rolled out yet, so you'll have to follow https://cloud.google.com/vertex-ai/generative-ai/docs/agent-engine/set-up#service-agent in the meantime to grant \"Vertex AI User\" (`roles/aiplatform.user`) to the service account in your GCP project."
      ]
    },
    {
      "cell_type": "code",
      "execution_count": null,
      "metadata": {
        "colab": {
          "base_uri": "https://localhost:8080/"
        },
        "id": "zcFo8SUqca-i",
        "outputId": "85f94c83-9e60-4de5-b7ec-5bdf2a963e0f"
      },
      "outputs": [
        {
          "data": {
            "text/plain": [
              "{'sessions': [{'events': [],\n",
              "   'last_update_time': 1744165437.450694,\n",
              "   'state': {},\n",
              "   'id': '707008516648337408',\n",
              "   'app_name': '903684208822583296',\n",
              "   'user_id': 'ysian'}]}"
            ]
          },
          "execution_count": 12,
          "metadata": {},
          "output_type": "execute_result"
        }
      ],
      "source": [
        "remote_app1.list_sessions(user_id=\"ysian\")"
      ]
    },
    {
      "cell_type": "code",
      "execution_count": null,
      "metadata": {
        "colab": {
          "base_uri": "https://localhost:8080/"
        },
        "id": "R2oa4YmVccoN",
        "outputId": "cf5e73a5-5235-41ea-96bc-a348a8f00115"
      },
      "outputs": [
        {
          "data": {
            "text/plain": [
              "{'events': [],\n",
              " 'last_update_time': 1744165437.450694,\n",
              " 'state': {},\n",
              " 'id': '707008516648337408',\n",
              " 'app_name': '903684208822583296',\n",
              " 'user_id': 'ysian'}"
            ]
          },
          "execution_count": 13,
          "metadata": {},
          "output_type": "execute_result"
        }
      ],
      "source": [
        "session = remote_app1.get_session(user_id=\"ysian\", session_id=session1[\"id\"])\n",
        "session"
      ]
    },
    {
      "cell_type": "code",
      "execution_count": null,
      "metadata": {
        "colab": {
          "base_uri": "https://localhost:8080/"
        },
        "id": "8gsV87JPt4IL",
        "outputId": "73c2855e-7850-4a30-be79-eb1e88d5a050"
      },
      "outputs": [
        {
          "name": "stdout",
          "output_type": "stream",
          "text": [
            "{'content': {'parts': [{'function_call': {'id': 'adk-aef83b34-1016-42e2-b68e-373c690e2a79', 'args': {'sides': 2}, 'name': 'roll_die'}}], 'role': 'model'}, 'invocation_id': 'e-23f3a630-22fd-461a-97c6-204886ae4ead', 'author': 'data_processing_agent', 'actions': {'state_delta': {}, 'artifact_delta': {}, 'requested_auth_configs': {}}, 'long_running_tool_ids': [], 'id': 'IhjRpzxv', 'timestamp': 1744165440.122969}\n",
            "{'content': {'parts': [{'function_response': {'id': 'adk-aef83b34-1016-42e2-b68e-373c690e2a79', 'name': 'roll_die', 'response': {'result': 1}}}], 'role': 'user'}, 'invocation_id': 'e-23f3a630-22fd-461a-97c6-204886ae4ead', 'author': 'data_processing_agent', 'actions': {'state_delta': {}, 'artifact_delta': {}, 'requested_auth_configs': {}}, 'id': 'gDwrTwzk', 'timestamp': 1744165441.509328}\n",
            "{'content': {'parts': [{'text': 'I rolled a 2 sided die and got 1.\\n'}], 'role': 'model'}, 'invocation_id': 'e-23f3a630-22fd-461a-97c6-204886ae4ead', 'author': 'data_processing_agent', 'actions': {'state_delta': {}, 'artifact_delta': {}, 'requested_auth_configs': {}}, 'id': '9tH1bXH9', 'timestamp': 1744165441.593362}\n"
          ]
        }
      ],
      "source": [
        "for event in remote_app1.stream_query(\n",
        "    user_id=\"ysian\",\n",
        "    session_id=session1[\"id\"],\n",
        "    message=\"roll a 2 sided die\",\n",
        "):\n",
        "    print(event)"
      ]
    },
    {
      "cell_type": "code",
      "execution_count": null,
      "metadata": {
        "colab": {
          "base_uri": "https://localhost:8080/"
        },
        "id": "NrhJLnHJrhFZ",
        "outputId": "80a9fa57-8f6b-47a6-dc4c-d88f06fccc38"
      },
      "outputs": [
        {
          "name": "stdout",
          "output_type": "stream",
          "text": [
            "{'content': {'parts': [{'text': 'The only roll I have performed so far was a roll of a 2 sided die, which resulted in a 1.\\n'}], 'role': 'model'}, 'invocation_id': 'e-1d21a6ba-095d-4b72-babd-c1bce882f170', 'author': 'data_processing_agent', 'actions': {'state_delta': {}, 'artifact_delta': {}, 'requested_auth_configs': {}}, 'id': 'gCsL3FGx', 'timestamp': 1744165442.466805}\n"
          ]
        }
      ],
      "source": [
        "for event in remote_app1.stream_query(\n",
        "    user_id=\"ysian\",\n",
        "    session_id=session1[\"id\"],\n",
        "    message=\"What were the previous rolls?\",\n",
        "):\n",
        "    print(event)"
      ]
    },
    {
      "cell_type": "markdown",
      "metadata": {
        "id": "WKU8GJkNakq2"
      },
      "source": [
        "## Remote adk.agents.Agent"
      ]
    },
    {
      "cell_type": "code",
      "execution_count": null,
      "metadata": {
        "colab": {
          "base_uri": "https://localhost:8080/"
        },
        "id": "bGkc6MxQX3WF",
        "outputId": "2710cb3e-8c87-4055-c9fa-fce13eee06cb"
      },
      "outputs": [
        {
          "name": "stdout",
          "output_type": "stream",
          "text": [
            "[{'api_mode': '',\n",
            "  'description': 'Get a session for the given user.\\n'\n",
            "                 '\\n'\n",
            "                 '        Args:\\n'\n",
            "                 '            user_id (str):\\n'\n",
            "                 '                Required. The ID of the user.\\n'\n",
            "                 '            session_id (str):\\n'\n",
            "                 '                Required. The ID of the session.\\n'\n",
            "                 '            **kwargs (dict[str, Any]):\\n'\n",
            "                 '                Optional. Additional keyword arguments to '\n",
            "                 'pass to the\\n'\n",
            "                 '                session service.\\n'\n",
            "                 '\\n'\n",
            "                 '        Returns:\\n'\n",
            "                 '            Session: The session instance (if any). It '\n",
            "                 'returns None if the\\n'\n",
            "                 '            session is not found.\\n'\n",
            "                 '\\n'\n",
            "                 '        Raises:\\n'\n",
            "                 '            RuntimeError: If the session is not found.\\n'\n",
            "                 '        ',\n",
            "  'name': 'get_session',\n",
            "  'parameters': {'properties': {'session_id': {'type': 'string'},\n",
            "                                'user_id': {'type': 'string'}},\n",
            "                 'required': ['user_id', 'session_id'],\n",
            "                 'type': 'object'}},\n",
            " {'api_mode': '',\n",
            "  'description': 'List sessions for the given user.\\n'\n",
            "                 '\\n'\n",
            "                 '        Args:\\n'\n",
            "                 '            user_id (str):\\n'\n",
            "                 '                Required. The ID of the user.\\n'\n",
            "                 '            **kwargs (dict[str, Any]):\\n'\n",
            "                 '                Optional. Additional keyword arguments to '\n",
            "                 'pass to the\\n'\n",
            "                 '                session service.\\n'\n",
            "                 '\\n'\n",
            "                 '        Returns:\\n'\n",
            "                 '            ListSessionsResponse: The list of sessions.\\n'\n",
            "                 '        ',\n",
            "  'name': 'list_sessions',\n",
            "  'parameters': {'properties': {'user_id': {'type': 'string'}},\n",
            "                 'required': ['user_id'],\n",
            "                 'type': 'object'}},\n",
            " {'api_mode': '',\n",
            "  'description': 'Creates a new session.\\n'\n",
            "                 '\\n'\n",
            "                 '        Args:\\n'\n",
            "                 '            user_id (str):\\n'\n",
            "                 '                Required. The ID of the user.\\n'\n",
            "                 '            session_id (str):\\n'\n",
            "                 '                Optional. The ID of the session. If not '\n",
            "                 'provided, an ID\\n'\n",
            "                 '                will be be generated for the session.\\n'\n",
            "                 '            state (dict[str, Any]):\\n'\n",
            "                 '                Optional. The initial state of the session.\\n'\n",
            "                 '            **kwargs (dict[str, Any]):\\n'\n",
            "                 '                Optional. Additional keyword arguments to '\n",
            "                 'pass to the\\n'\n",
            "                 '                session service.\\n'\n",
            "                 '\\n'\n",
            "                 '        Returns:\\n'\n",
            "                 '            Session: The newly created session instance.\\n'\n",
            "                 '        ',\n",
            "  'name': 'create_session',\n",
            "  'parameters': {'properties': {'session_id': {'nullable': True,\n",
            "                                               'type': 'string'},\n",
            "                                'state': {'nullable': True, 'type': 'object'},\n",
            "                                'user_id': {'type': 'string'}},\n",
            "                 'required': ['user_id'],\n",
            "                 'type': 'object'}},\n",
            " {'api_mode': '',\n",
            "  'description': 'Deletes a session for the given user.\\n'\n",
            "                 '\\n'\n",
            "                 '        Args:\\n'\n",
            "                 '            user_id (str):\\n'\n",
            "                 '                Required. The ID of the user.\\n'\n",
            "                 '            session_id (str):\\n'\n",
            "                 '                Required. The ID of the session.\\n'\n",
            "                 '            **kwargs (dict[str, Any]):\\n'\n",
            "                 '                Optional. Additional keyword arguments to '\n",
            "                 'pass to the\\n'\n",
            "                 '                session service.\\n'\n",
            "                 '        ',\n",
            "  'name': 'delete_session',\n",
            "  'parameters': {'properties': {'session_id': {'type': 'string'},\n",
            "                                'user_id': {'type': 'string'}},\n",
            "                 'required': ['user_id', 'session_id'],\n",
            "                 'type': 'object'}},\n",
            " {'api_mode': 'stream',\n",
            "  'description': 'Streams responses from the ADK application in response to a '\n",
            "                 'message.\\n'\n",
            "                 '\\n'\n",
            "                 '        Args:\\n'\n",
            "                 '            message (str):\\n'\n",
            "                 '                Required. The message to stream responses '\n",
            "                 'for.\\n'\n",
            "                 '            user_id (str):\\n'\n",
            "                 '                Required. The ID of the user.\\n'\n",
            "                 '            session_id (str):\\n'\n",
            "                 '                Optional. The ID of the session. If not '\n",
            "                 'provided, a new\\n'\n",
            "                 '                session will be created for the user.\\n'\n",
            "                 '            **kwargs (dict[str, Any]):\\n'\n",
            "                 '                Optional. Additional keyword arguments to '\n",
            "                 'pass to the\\n'\n",
            "                 '                runner.\\n'\n",
            "                 '\\n'\n",
            "                 '        Yields:\\n'\n",
            "                 '            The output of querying the ADK application.\\n'\n",
            "                 '        ',\n",
            "  'name': 'stream_query',\n",
            "  'parameters': {'properties': {'message': {'type': 'string'},\n",
            "                                'session_id': {'nullable': True,\n",
            "                                               'type': 'string'},\n",
            "                                'user_id': {'type': 'string'}},\n",
            "                 'required': ['message', 'user_id'],\n",
            "                 'type': 'object'}},\n",
            " {'api_mode': 'stream',\n",
            "  'description': None,\n",
            "  'name': 'streaming_agent_run_with_events',\n",
            "  'parameters': {'properties': {'request_json': {'type': 'string'}},\n",
            "                 'required': ['request_json'],\n",
            "                 'type': 'object'}}]\n"
          ]
        }
      ],
      "source": [
        "import pprint\n",
        "\n",
        "pprint.pprint(remote_app2.operation_schemas())"
      ]
    },
    {
      "cell_type": "code",
      "execution_count": null,
      "metadata": {
        "colab": {
          "base_uri": "https://localhost:8080/"
        },
        "id": "Y2X2P6bAX51W",
        "outputId": "adf32fcc-2ab2-41c6-9a04-ec6cdd4def1f"
      },
      "outputs": [
        {
          "data": {
            "text/plain": [
              "{'events': [],\n",
              " 'user_id': 'ysian',\n",
              " 'state': {},\n",
              " 'id': '3125441516546293760',\n",
              " 'app_name': '3511268393070100480',\n",
              " 'last_update_time': 1744165808.203766}"
            ]
          },
          "execution_count": 19,
          "metadata": {},
          "output_type": "execute_result"
        }
      ],
      "source": [
        "session2 = remote_app2.create_session(user_id=\"ysian\")\n",
        "session2"
      ]
    },
    {
      "cell_type": "markdown",
      "metadata": {
        "id": "23CMkffyhrQ4"
      },
      "source": [
        "**Remark**: The automatic provisioning of permissions for Vertex AI Sessions have not rolled out yet, so you'll have to follow https://cloud.google.com/vertex-ai/generative-ai/docs/agent-engine/set-up#service-agent in the meantime to grant \"Vertex AI User\" (`roles/aiplatform.user`) to the service account in your GCP project."
      ]
    },
    {
      "cell_type": "code",
      "execution_count": null,
      "metadata": {
        "colab": {
          "base_uri": "https://localhost:8080/"
        },
        "id": "EvolceFMYAk7",
        "outputId": "1054541b-d935-4170-abc4-c5eb67e3f96f"
      },
      "outputs": [
        {
          "data": {
            "text/plain": [
              "{'sessions': [{'events': [],\n",
              "   'last_update_time': 1744165808.203766,\n",
              "   'state': {},\n",
              "   'id': '3125441516546293760',\n",
              "   'app_name': '3511268393070100480',\n",
              "   'user_id': 'ysian'}]}"
            ]
          },
          "execution_count": 20,
          "metadata": {},
          "output_type": "execute_result"
        }
      ],
      "source": [
        "remote_app2.list_sessions(user_id=\"ysian\")"
      ]
    },
    {
      "cell_type": "code",
      "execution_count": null,
      "metadata": {
        "colab": {
          "base_uri": "https://localhost:8080/"
        },
        "id": "XR5UsZoEYD7K",
        "outputId": "e22dfc7a-32c2-4f7f-873b-c1768d70bb6d"
      },
      "outputs": [
        {
          "data": {
            "text/plain": [
              "{'events': [],\n",
              " 'last_update_time': 1744165808.203766,\n",
              " 'state': {},\n",
              " 'id': '3125441516546293760',\n",
              " 'app_name': '3511268393070100480',\n",
              " 'user_id': 'ysian'}"
            ]
          },
          "execution_count": 21,
          "metadata": {},
          "output_type": "execute_result"
        }
      ],
      "source": [
        "session2 = remote_app2.get_session(user_id=\"ysian\", session_id=session2[\"id\"])\n",
        "session2"
      ]
    },
    {
      "cell_type": "code",
      "execution_count": null,
      "metadata": {
        "colab": {
          "base_uri": "https://localhost:8080/"
        },
        "id": "iX9QgPrAarla",
        "outputId": "09da8147-e575-468f-cc52-d1aa7d30ba7d"
      },
      "outputs": [
        {
          "name": "stdout",
          "output_type": "stream",
          "text": [
            "{'content': {'parts': [{'function_call': {'id': 'adk-6b6dbbe7-872b-4fcd-a954-f0d474ad2177', 'args': {'sides': 2}, 'name': 'roll_die'}}], 'role': 'model'}, 'invocation_id': 'e-fda28f8a-a752-4589-938d-d73a9850ca8b', 'author': 'data_processing_agent', 'actions': {'state_delta': {}, 'artifact_delta': {}, 'requested_auth_configs': {}}, 'long_running_tool_ids': [], 'id': '3XjRnonv', 'timestamp': 1744165810.466326}\n",
            "{'content': {'parts': [{'function_response': {'id': 'adk-6b6dbbe7-872b-4fcd-a954-f0d474ad2177', 'name': 'roll_die', 'response': {'result': 2}}}], 'role': 'user'}, 'invocation_id': 'e-fda28f8a-a752-4589-938d-d73a9850ca8b', 'author': 'data_processing_agent', 'actions': {'state_delta': {}, 'artifact_delta': {}, 'requested_auth_configs': {}}, 'id': 'P7sqgatO', 'timestamp': 1744165811.066498}\n",
            "{'content': {'parts': [{'text': 'I rolled a 2-sided die and got a 2.\\n'}], 'role': 'model'}, 'invocation_id': 'e-fda28f8a-a752-4589-938d-d73a9850ca8b', 'author': 'data_processing_agent', 'actions': {'state_delta': {}, 'artifact_delta': {}, 'requested_auth_configs': {}}, 'id': 'lEKAY2UM', 'timestamp': 1744165811.155812}\n"
          ]
        }
      ],
      "source": [
        "for event in remote_app2.stream_query(\n",
        "    user_id=\"ysian\",\n",
        "    session_id=session2[\"id\"],\n",
        "    message=\"roll a 2 sided die\",\n",
        "):\n",
        "    print(event)"
      ]
    },
    {
      "cell_type": "code",
      "execution_count": null,
      "metadata": {
        "colab": {
          "base_uri": "https://localhost:8080/"
        },
        "id": "nKPzIXN_aroR",
        "outputId": "3de30422-c292-4ad8-b4d9-3a5e04ef9c17"
      },
      "outputs": [
        {
          "name": "stdout",
          "output_type": "stream",
          "text": [
            "{'content': {'parts': [{'text': 'The previous roll was a 2 on a 2-sided die.\\n'}], 'role': 'model'}, 'invocation_id': 'e-a6ea3500-1e77-4b82-8500-71b109be8f37', 'author': 'data_processing_agent', 'actions': {'state_delta': {}, 'artifact_delta': {}, 'requested_auth_configs': {}}, 'id': 'OirF6iA6', 'timestamp': 1744165812.068509}\n"
          ]
        }
      ],
      "source": [
        "for event in remote_app2.stream_query(\n",
        "    user_id=\"ysian\",\n",
        "    session_id=session2[\"id\"],\n",
        "    message=\"What were the previous rolls?\",\n",
        "):\n",
        "    print(event)"
      ]
    },
    {
      "cell_type": "markdown",
      "metadata": {
        "id": "Q80NTTyGs939"
      },
      "source": [
        "# Clean up"
      ]
    },
    {
      "cell_type": "code",
      "execution_count": null,
      "metadata": {
        "colab": {
          "base_uri": "https://localhost:8080/"
        },
        "id": "GCel9M-YsdUr",
        "outputId": "6c75476f-7c0c-4a9f-8e3d-63ce5c7dfd13"
      },
      "outputs": [
        {
          "name": "stderr",
          "output_type": "stream",
          "text": [
            "INFO:vertexai.agent_engines:Delete Agent Engine backing LRO: projects/349765473021/locations/us-central1/operations/6795315114758111232\n",
            "INFO:vertexai.agent_engines:Agent Engine deleted. Resource name: projects/349765473021/locations/us-central1/reasoningEngines/903684208822583296\n"
          ]
        }
      ],
      "source": [
        "remote_app1.delete(force=True)"
      ]
    },
    {
      "cell_type": "code",
      "execution_count": null,
      "metadata": {
        "colab": {
          "base_uri": "https://localhost:8080/"
        },
        "id": "kfkUjWFkYOV0",
        "outputId": "96d15de9-0dbb-4d13-d130-0cf912b0af34"
      },
      "outputs": [
        {
          "name": "stderr",
          "output_type": "stream",
          "text": [
            "INFO:vertexai.agent_engines:Delete Agent Engine backing LRO: projects/349765473021/locations/us-central1/operations/577532879219720192\n",
            "INFO:vertexai.agent_engines:Agent Engine deleted. Resource name: projects/349765473021/locations/us-central1/reasoningEngines/3511268393070100480\n"
          ]
        }
      ],
      "source": [
        "remote_app2.delete(force=True)"
      ]
    },
    {
      "cell_type": "code",
      "execution_count": null,
      "metadata": {
        "id": "2PbQkc8YtAKK"
      },
      "outputs": [],
      "source": []
    }
  ],
  "metadata": {
    "colab": {
      "provenance": [],
      "toc_visible": true
    },
    "kernelspec": {
      "display_name": "Python 3",
      "name": "python3"
    },
    "language_info": {
      "name": "python"
    }
  },
  "nbformat": 4,
  "nbformat_minor": 0
}
