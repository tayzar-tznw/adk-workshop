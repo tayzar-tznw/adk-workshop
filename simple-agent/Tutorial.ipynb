{
 "cells": [
  {
   "cell_type": "markdown",
   "metadata": {},
   "source": [
    "# Install Dependencies"
   ]
  },
  {
   "cell_type": "code",
   "execution_count": null,
   "metadata": {
    "ExecuteTime": {
     "end_time": "2025-05-24T19:34:31.829806Z",
     "start_time": "2025-05-24T19:34:29.066843Z"
    },
    "colab": {
     "base_uri": "https://localhost:8080/"
    },
    "id": "sbwxKypOSBkN",
    "outputId": "30da1e72-fa2d-47e6-e69d-ccce2afbd3fe"
   },
   "outputs": [
    {
     "name": "stdout",
     "output_type": "stream",
     "text": [
      "\n",
      "\u001b[1m[\u001b[0m\u001b[34;49mnotice\u001b[0m\u001b[1;39;49m]\u001b[0m\u001b[39;49m A new release of pip is available: \u001b[0m\u001b[31;49m24.0\u001b[0m\u001b[39;49m -> \u001b[0m\u001b[32;49m25.1.1\u001b[0m\n",
      "\u001b[1m[\u001b[0m\u001b[34;49mnotice\u001b[0m\u001b[1;39;49m]\u001b[0m\u001b[39;49m To update, run: \u001b[0m\u001b[32;49mpip install --upgrade pip\u001b[0m\n",
      "Note: you may need to restart the kernel to use updated packages.\n",
      "\n",
      "\u001b[1m[\u001b[0m\u001b[34;49mnotice\u001b[0m\u001b[1;39;49m]\u001b[0m\u001b[39;49m A new release of pip is available: \u001b[0m\u001b[31;49m24.0\u001b[0m\u001b[39;49m -> \u001b[0m\u001b[32;49m25.1.1\u001b[0m\n",
      "\u001b[1m[\u001b[0m\u001b[34;49mnotice\u001b[0m\u001b[1;39;49m]\u001b[0m\u001b[39;49m To update, run: \u001b[0m\u001b[32;49mpip install --upgrade pip\u001b[0m\n",
      "Note: you may need to restart the kernel to use updated packages.\n",
      "Installation complete.\n"
     ]
    }
   ],
   "source": [
    "%pip install \"google-cloud-aiplatform[agent_engines,adk]==1.88 \" -q\n",
    "%pip install -U google-adk==0.2.0  -q\n",
    "\n",
    "print(\"Installation complete.\")"
   ]
  },
  {
   "cell_type": "code",
   "execution_count": null,
   "metadata": {},
   "outputs": [
    {
     "name": "stdout",
     "output_type": "stream",
     "text": [
      "Package                            Version\n",
      "---------------------------------- --------------\n",
      "annotated-types                    0.7.0\n",
      "anyio                              4.9.0\n",
      "argon2-cffi                        23.1.0\n",
      "argon2-cffi-bindings               21.2.0\n",
      "arrow                              1.3.0\n",
      "asttokens                          3.0.0\n",
      "async-lru                          2.0.5\n",
      "attrs                              25.3.0\n",
      "Authlib                            1.6.0\n",
      "babel                              2.17.0\n",
      "beautifulsoup4                     4.13.4\n",
      "bleach                             6.2.0\n",
      "cachetools                         5.5.2\n",
      "certifi                            2025.4.26\n",
      "cffi                               1.17.1\n",
      "charset-normalizer                 3.4.2\n",
      "click                              8.2.1\n",
      "cloudpickle                        3.1.1\n",
      "comm                               0.2.2\n",
      "cryptography                       45.0.3\n",
      "debugpy                            1.8.14\n",
      "decorator                          5.2.1\n",
      "defusedxml                         0.7.1\n",
      "Deprecated                         1.2.18\n",
      "docstring_parser                   0.16\n",
      "executing                          2.2.0\n",
      "fastapi                            0.115.12\n",
      "fastjsonschema                     2.21.1\n",
      "fqdn                               1.5.1\n",
      "google-adk                         0.2.0\n",
      "google-api-core                    2.24.2\n",
      "google-api-python-client           2.170.0\n",
      "google-auth                        2.40.2\n",
      "google-auth-httplib2               0.2.0\n",
      "google-cloud-aiplatform            1.88.0\n",
      "google-cloud-appengine-logging     1.6.1\n",
      "google-cloud-audit-log             0.3.2\n",
      "google-cloud-bigquery              3.33.0\n",
      "google-cloud-core                  2.4.3\n",
      "google-cloud-logging               3.12.1\n",
      "google-cloud-resource-manager      1.14.2\n",
      "google-cloud-secret-manager        2.23.3\n",
      "google-cloud-speech                2.32.0\n",
      "google-cloud-storage               2.19.0\n",
      "google-cloud-trace                 1.16.1\n",
      "google-crc32c                      1.7.1\n",
      "google-genai                       1.17.0\n",
      "google-resumable-media             2.7.2\n",
      "googleapis-common-protos           1.70.0\n",
      "graphviz                           0.20.3\n",
      "greenlet                           3.2.2\n",
      "grpc-google-iam-v1                 0.14.2\n",
      "grpcio                             1.71.0\n",
      "grpcio-status                      1.71.0\n",
      "h11                                0.16.0\n",
      "httpcore                           1.0.9\n",
      "httplib2                           0.22.0\n",
      "httpx                              0.28.1\n",
      "httpx-sse                          0.4.0\n",
      "idna                               3.10\n",
      "importlib_metadata                 8.6.1\n",
      "ipykernel                          6.29.5\n",
      "ipython                            9.2.0\n",
      "ipython_pygments_lexers            1.1.1\n",
      "ipywidgets                         8.1.7\n",
      "isoduration                        20.11.0\n",
      "jedi                               0.19.2\n",
      "Jinja2                             3.1.6\n",
      "json5                              0.12.0\n",
      "jsonpointer                        3.0.0\n",
      "jsonschema                         4.24.0\n",
      "jsonschema-specifications          2025.4.1\n",
      "jupyter                            1.1.1\n",
      "jupyter_client                     8.6.3\n",
      "jupyter-console                    6.6.3\n",
      "jupyter_core                       5.8.1\n",
      "jupyter-events                     0.12.0\n",
      "jupyter-lsp                        2.2.5\n",
      "jupyter_server                     2.16.0\n",
      "jupyter_server_terminals           0.5.3\n",
      "jupyterlab                         4.4.3\n",
      "jupyterlab_pygments                0.3.0\n",
      "jupyterlab_server                  2.27.3\n",
      "jupyterlab_widgets                 3.0.15\n",
      "MarkupSafe                         3.0.2\n",
      "matplotlib-inline                  0.1.7\n",
      "mcp                                1.9.2\n",
      "mistune                            3.1.3\n",
      "nbclient                           0.10.2\n",
      "nbconvert                          7.16.6\n",
      "nbformat                           5.10.4\n",
      "nest-asyncio                       1.6.0\n",
      "notebook                           7.4.3\n",
      "notebook_shim                      0.2.4\n",
      "numpy                              2.2.6\n",
      "opentelemetry-api                  1.33.1\n",
      "opentelemetry-exporter-gcp-trace   1.9.0\n",
      "opentelemetry-resourcedetector-gcp 1.9.0a0\n",
      "opentelemetry-sdk                  1.33.1\n",
      "opentelemetry-semantic-conventions 0.54b1\n",
      "overrides                          7.7.0\n",
      "packaging                          25.0\n",
      "pandocfilters                      1.5.1\n",
      "parso                              0.8.4\n",
      "pexpect                            4.9.0\n",
      "pip                                24.0\n",
      "platformdirs                       4.3.8\n",
      "prometheus_client                  0.22.0\n",
      "prompt_toolkit                     3.0.51\n",
      "proto-plus                         1.26.1\n",
      "protobuf                           5.29.5\n",
      "psutil                             7.0.0\n",
      "ptyprocess                         0.7.0\n",
      "pure_eval                          0.2.3\n",
      "pyasn1                             0.6.1\n",
      "pyasn1_modules                     0.4.2\n",
      "pycparser                          2.22\n",
      "pydantic                           2.11.5\n",
      "pydantic_core                      2.33.2\n",
      "pydantic-settings                  2.9.1\n",
      "Pygments                           2.19.1\n",
      "pyparsing                          3.2.3\n",
      "python-dateutil                    2.9.0.post0\n",
      "python-dotenv                      1.1.0\n",
      "python-json-logger                 3.3.0\n",
      "python-multipart                   0.0.20\n",
      "PyYAML                             6.0.2\n",
      "pyzmq                              26.4.0\n",
      "referencing                        0.36.2\n",
      "requests                           2.32.3\n",
      "rfc3339-validator                  0.1.4\n",
      "rfc3986-validator                  0.1.1\n",
      "rpds-py                            0.25.1\n",
      "rsa                                4.9.1\n",
      "Send2Trash                         1.8.3\n",
      "setuptools                         65.5.0\n",
      "shapely                            2.1.1\n",
      "six                                1.17.0\n",
      "sniffio                            1.3.1\n",
      "soupsieve                          2.7\n",
      "SQLAlchemy                         2.0.41\n",
      "sse-starlette                      2.3.5\n",
      "stack-data                         0.6.3\n",
      "starlette                          0.46.2\n",
      "terminado                          0.18.1\n",
      "tinycss2                           1.4.0\n",
      "tornado                            6.5.1\n",
      "traitlets                          5.14.3\n",
      "types-python-dateutil              2.9.0.20250516\n",
      "typing_extensions                  4.13.2\n",
      "typing-inspection                  0.4.1\n",
      "tzlocal                            5.3.1\n",
      "uri-template                       1.3.0\n",
      "uritemplate                        4.1.1\n",
      "urllib3                            2.4.0\n",
      "uvicorn                            0.34.2\n",
      "wcwidth                            0.2.13\n",
      "webcolors                          24.11.1\n",
      "webencodings                       0.5.1\n",
      "websocket-client                   1.8.0\n",
      "websockets                         15.0.1\n",
      "widgetsnbextension                 4.0.14\n",
      "wrapt                              1.17.2\n",
      "zipp                               3.22.0\n",
      "\n",
      "\u001b[1m[\u001b[0m\u001b[34;49mnotice\u001b[0m\u001b[1;39;49m]\u001b[0m\u001b[39;49m A new release of pip is available: \u001b[0m\u001b[31;49m24.0\u001b[0m\u001b[39;49m -> \u001b[0m\u001b[32;49m25.1.1\u001b[0m\n",
      "\u001b[1m[\u001b[0m\u001b[34;49mnotice\u001b[0m\u001b[1;39;49m]\u001b[0m\u001b[39;49m To update, run: \u001b[0m\u001b[32;49mpip install --upgrade pip\u001b[0m\n"
     ]
    }
   ],
   "source": [
    "!pip list"
   ]
  },
  {
   "cell_type": "code",
   "execution_count": 3,
   "metadata": {},
   "outputs": [
    {
     "name": "stdout",
     "output_type": "stream",
     "text": [
      "Libraries imported.\n"
     ]
    }
   ],
   "source": [
    "import os\n",
    "from google.adk.agents import Agent\n",
    "from google.adk.sessions import InMemorySessionService\n",
    "from google.adk.runners import Runner\n",
    "\n",
    "\n",
    "print(\"Libraries imported.\")"
   ]
  },
  {
   "cell_type": "code",
   "execution_count": 20,
   "metadata": {
    "ExecuteTime": {
     "end_time": "2025-05-24T18:22:36.368220Z",
     "start_time": "2025-05-24T18:22:36.363981Z"
    },
    "colab": {
     "base_uri": "https://localhost:8080/"
    },
    "id": "3mNsVI5eSDOi",
    "outputId": "7f5684eb-b79a-4b47-baf9-8d97bd75b06e"
   },
   "outputs": [],
   "source": [
    "GOOGLE_CLOUD_PROJECT = \"development-459201\" # @param {type:\"string\"}\n",
    "os.environ[\"GOOGLE_GENAI_USE_VERTEXAI\"] = \"True\"\n",
    "os.environ[\"GOOGLE_CLOUD_PROJECT\"] = GOOGLE_CLOUD_PROJECT\n",
    "os.environ[\"GOOGLE_CLOUD_LOCATION\"] = \"us-central1\"\n",
    "\n",
    "\n",
    "DEFAULT_MODEL = \"gemini-2.0-flash\""
   ]
  },
  {
   "cell_type": "markdown",
   "metadata": {},
   "source": [
    "# Create an Agent"
   ]
  },
  {
   "cell_type": "code",
   "execution_count": 21,
   "metadata": {
    "ExecuteTime": {
     "end_time": "2025-05-24T18:23:20.822630Z",
     "start_time": "2025-05-24T18:23:20.818530Z"
    },
    "id": "6Ho1COmKSUeV"
   },
   "outputs": [],
   "source": [
    "root_agent = Agent(\n",
    "    model=DEFAULT_MODEL,\n",
    "    name=\"hello_world_agent\",\n",
    "    description=\"An agent that says 'hello world'\",\n",
    "    instruction=\"\"\"You always say 'hello world' to the user, and nothing else.\n",
    "    Output 'hello world' in a random language.\n",
    "    Put the language in brackets.\n",
    "\n",
    "    Example Output 1:\n",
    "    hello world (English)\n",
    "    \"\"\"\n",
    ")\n"
   ]
  },
  {
   "cell_type": "code",
   "execution_count": 7,
   "metadata": {
    "ExecuteTime": {
     "end_time": "2025-05-24T18:23:23.679635Z",
     "start_time": "2025-05-24T18:23:23.674009Z"
    },
    "id": "h30dNtqMSah5"
   },
   "outputs": [
    {
     "name": "stdout",
     "output_type": "stream",
     "text": [
      "Session created: App='hello_world_app', User='user_1', Session='session_001'\n"
     ]
    }
   ],
   "source": [
    "session_service = InMemorySessionService()\n",
    "\n",
    "\n",
    "APP_NAME = \"hello_world_app\"\n",
    "USER_ID = \"user_1\"\n",
    "SESSION_ID = \"session_001\" \n",
    "\n",
    "\n",
    "session = session_service.create_session(\n",
    "        app_name=APP_NAME,\n",
    "        user_id=USER_ID,\n",
    "        session_id=SESSION_ID\n",
    "    )\n",
    "print(f\"Session created: App='{APP_NAME}', User='{USER_ID}', Session='{SESSION_ID}'\")\n",
    "\n",
    "\n",
    "runner = Runner(\n",
    "    agent=root_agent, \n",
    "    app_name=APP_NAME,  \n",
    "    session_service=session_service \n",
    ")\n"
   ]
  },
  {
   "cell_type": "code",
   "execution_count": 8,
   "metadata": {
    "ExecuteTime": {
     "end_time": "2025-05-24T18:23:28.732323Z",
     "start_time": "2025-05-24T18:23:28.727819Z"
    },
    "id": "yZJr8lbkSebH"
   },
   "outputs": [],
   "source": [
    "from google.genai import types\n",
    "\n",
    "async def call_agent_async(query: str, runner, user_id, session_id):\n",
    "\n",
    "  print(f\"\\n>>> User: {query}\")\n",
    "\n",
    "  content = types.Content(role='user', parts=[types.Part(text=query)])\n",
    "\n",
    "  final_response_text = \"Agent did not generate a final response.\" \n",
    "\n",
    "  async for event in runner.run_async(user_id=user_id, session_id=session_id, new_message=content):\n",
    "      if event.is_final_response():\n",
    "          if event.content and event.content.parts:\n",
    "             final_response_text = event.content.parts[0].text\n",
    "          elif event.actions and event.actions.escalate: \n",
    "             final_response_text = f\"Error: {event.error_message or 'No message'}\"\n",
    "\n",
    "          break \n",
    "\n",
    "  print(f\"<<< Agent: {final_response_text}\")"
   ]
  },
  {
   "cell_type": "code",
   "execution_count": 10,
   "metadata": {
    "ExecuteTime": {
     "end_time": "2025-05-24T18:33:19.838488Z",
     "start_time": "2025-05-24T18:33:07.588402Z"
    },
    "id": "mEd2QhHyUKY8"
   },
   "outputs": [
    {
     "name": "stdout",
     "output_type": "stream",
     "text": [
      "\n",
      ">>> User: Hello\n"
     ]
    },
    {
     "name": "stderr",
     "output_type": "stream",
     "text": [
      "/home/vscode/.pyenv/versions/3.11.12/lib/python3.11/site-packages/google/auth/_default.py:76: UserWarning: Your application has authenticated using end user credentials from Google Cloud SDK without a quota project. You might receive a \"quota exceeded\" or \"API not enabled\" error. See the following page for troubleshooting: https://cloud.google.com/docs/authentication/adc-troubleshooting/user-creds. \n",
      "  warnings.warn(_CLOUD_SDK_CREDENTIALS_WARNING)\n"
     ]
    },
    {
     "name": "stdout",
     "output_type": "stream",
     "text": [
      "<<< Agent: こんにちは世界 (Japanese)\n",
      "\n"
     ]
    }
   ],
   "source": [
    "async def run_conversation():\n",
    "    await call_agent_async(\"Hello\",\n",
    "                                       runner=runner,\n",
    "                                       user_id=USER_ID,\n",
    "                                       session_id=SESSION_ID)\n",
    "\n",
    "\n",
    "await run_conversation()\n"
   ]
  },
  {
   "cell_type": "markdown",
   "metadata": {
    "id": "iieUOSldRx1J"
   },
   "source": [
    "# Deploy to Agent Engine"
   ]
  },
  {
   "cell_type": "code",
   "execution_count": 11,
   "metadata": {
    "id": "BSWSdmkNR-S8"
   },
   "outputs": [],
   "source": [
    "import time\n",
    "import vertexai\n",
    "from vertexai import agent_engines\n",
    "from vertexai.preview.reasoning_engines import AdkApp\n",
    "from google.adk.agents import Agent\n",
    "from typing import Generator, Iterable\n",
    "\n",
    "STAGING_BUCKET = \"gs://adk-mini-tap\" #@param {type:\"string\"}\n",
    "\n",
    "vertexai.init(\n",
    "    staging_bucket=STAGING_BUCKET,\n",
    ")"
   ]
  },
  {
   "cell_type": "code",
   "execution_count": 12,
   "metadata": {
    "id": "_bxNj3Eiz-um"
   },
   "outputs": [
    {
     "name": "stderr",
     "output_type": "stream",
     "text": [
      "/home/vscode/.pyenv/versions/3.11.12/lib/python3.11/site-packages/google/auth/_default.py:76: UserWarning: Your application has authenticated using end user credentials from Google Cloud SDK without a quota project. You might receive a \"quota exceeded\" or \"API not enabled\" error. See the following page for troubleshooting: https://cloud.google.com/docs/authentication/adc-troubleshooting/user-creds. \n",
      "  warnings.warn(_CLOUD_SDK_CREDENTIALS_WARNING)\n"
     ]
    }
   ],
   "source": [
    "# VertexAI SDK の AdkApp クラスでエージェントをラップする\n",
    "app = AdkApp(agent=root_agent)"
   ]
  },
  {
   "cell_type": "code",
   "execution_count": 13,
   "metadata": {
    "id": "4X0OsNHPz-um"
   },
   "outputs": [
    {
     "name": "stdout",
     "output_type": "stream",
     "text": [
      "Identified the following requirements: {'google-cloud-aiplatform': '1.88.0', 'cloudpickle': '3.1.1'}\n",
      "The following requirements are missing: {'cloudpickle'}\n",
      "The following requirements are appended: {'cloudpickle==3.1.1'}\n",
      "The final list of requirements: ['google-cloud-aiplatform[agent_engines,adk]==1.88', 'google-adk==0.2.0', 'cloudpickle==3.1.1']\n"
     ]
    },
    {
     "name": "stderr",
     "output_type": "stream",
     "text": [
      "/home/vscode/.pyenv/versions/3.11.12/lib/python3.11/site-packages/google/auth/_default.py:76: UserWarning: Your application has authenticated using end user credentials from Google Cloud SDK without a quota project. You might receive a \"quota exceeded\" or \"API not enabled\" error. See the following page for troubleshooting: https://cloud.google.com/docs/authentication/adc-troubleshooting/user-creds. \n",
      "  warnings.warn(_CLOUD_SDK_CREDENTIALS_WARNING)\n"
     ]
    },
    {
     "name": "stdout",
     "output_type": "stream",
     "text": [
      "Using bucket adk-mini-tap\n",
      "Wrote to gs://adk-mini-tap/agent_engine/agent_engine.pkl\n",
      "Writing to gs://adk-mini-tap/agent_engine/requirements.txt\n",
      "Creating in-memory tarfile of extra_packages\n",
      "Writing to gs://adk-mini-tap/agent_engine/dependencies.tar.gz\n",
      "Creating AgentEngine\n",
      "Create AgentEngine backing LRO: projects/1017461389635/locations/us-central1/reasoningEngines/5258137282908520448/operations/3905041268329152512\n",
      "View progress and logs at https://console.cloud.google.com/logs/query?project=development-459201\n",
      "AgentEngine created. Resource name: projects/1017461389635/locations/us-central1/reasoningEngines/5258137282908520448\n",
      "To use this AgentEngine in another session:\n",
      "agent_engine = vertexai.agent_engines.get('projects/1017461389635/locations/us-central1/reasoningEngines/5258137282908520448')\n"
     ]
    }
   ],
   "source": [
    "remote_app = agent_engines.create(\n",
    "    app,\n",
    "    requirements=[\n",
    "        \"google-cloud-aiplatform[agent_engines,adk]==1.88\",\n",
    "        \"google-adk==0.2.0\"\n",
    "    ],\n",
    "    display_name=\"Hello World Agent\",\n",
    "    description=\"Agent Engine\",\n",
    ")"
   ]
  },
  {
   "cell_type": "code",
   "execution_count": 16,
   "metadata": {},
   "outputs": [
    {
     "name": "stdout",
     "output_type": "stream",
     "text": [
      "Type of remote_app object: <class 'vertexai.agent_engines._agent_engines.AgentEngine'>\n",
      "Remote app has 'query' attribute: False\n",
      "Remote app has 'async_query' attribute: False\n",
      "Remote app has 'stream_query' attribute: True\n",
      "Remote app has 'async_stream_query' attribute: False\n"
     ]
    }
   ],
   "source": [
    "print(f\"Type of remote_app object: {type(remote_app)}\")\n",
    "print(f\"Remote app has 'query' attribute: {hasattr(remote_app, 'query')}\")\n",
    "print(f\"Remote app has 'async_query' attribute: {hasattr(remote_app, 'async_query')}\")\n",
    "print(f\"Remote app has 'stream_query' attribute: {hasattr(remote_app, 'stream_query')}\")\n",
    "print(f\"Remote app has 'async_stream_query' attribute: {hasattr(remote_app, 'async_stream_query')}\")\n"
   ]
  },
  {
   "cell_type": "code",
   "execution_count": 15,
   "metadata": {},
   "outputs": [
    {
     "data": {
      "text/plain": [
       "'projects/1017461389635/locations/us-central1/reasoningEngines/5258137282908520448'"
      ]
     },
     "execution_count": 15,
     "metadata": {},
     "output_type": "execute_result"
    }
   ],
   "source": [
    "remote_app.resource_name"
   ]
  },
  {
   "cell_type": "code",
   "execution_count": 17,
   "metadata": {},
   "outputs": [
    {
     "data": {
      "text/plain": [
       "{'events': [],\n",
       " 'last_update_time': 1748530595.921835,\n",
       " 'state': {},\n",
       " 'id': '5759660270465056768',\n",
       " 'app_name': '5258137282908520448',\n",
       " 'user_id': 'u_456'}"
      ]
     },
     "execution_count": 17,
     "metadata": {},
     "output_type": "execute_result"
    }
   ],
   "source": [
    "remote_session = remote_app.create_session(user_id=\"u_456\")\n",
    "remote_session"
   ]
  },
  {
   "cell_type": "code",
   "execution_count": 18,
   "metadata": {},
   "outputs": [
    {
     "data": {
      "text/plain": [
       "{'events': [],\n",
       " 'last_update_time': 1748530595.921835,\n",
       " 'state': {},\n",
       " 'id': '5759660270465056768',\n",
       " 'app_name': '5258137282908520448',\n",
       " 'user_id': 'u_456'}"
      ]
     },
     "execution_count": 18,
     "metadata": {},
     "output_type": "execute_result"
    }
   ],
   "source": [
    "remote_app.get_session(user_id=\"u_456\", session_id=remote_session[\"id\"])"
   ]
  },
  {
   "cell_type": "code",
   "execution_count": 19,
   "metadata": {},
   "outputs": [
    {
     "ename": "ValueError",
     "evalue": "Can only parse array of JSON objects, instead got {\"",
     "output_type": "error",
     "traceback": [
      "\u001b[31m---------------------------------------------------------------------------\u001b[39m",
      "\u001b[31mValueError\u001b[39m                                Traceback (most recent call last)",
      "\u001b[36mCell\u001b[39m\u001b[36m \u001b[39m\u001b[32mIn[19]\u001b[39m\u001b[32m, line 1\u001b[39m\n\u001b[32m----> \u001b[39m\u001b[32m1\u001b[39m \u001b[38;5;28;43;01mfor\u001b[39;49;00m\u001b[43m \u001b[49m\u001b[43mevent\u001b[49m\u001b[43m \u001b[49m\u001b[38;5;129;43;01min\u001b[39;49;00m\u001b[43m \u001b[49m\u001b[43mremote_app\u001b[49m\u001b[43m.\u001b[49m\u001b[43mstream_query\u001b[49m\u001b[43m(\u001b[49m\n\u001b[32m      2\u001b[39m \u001b[43m    \u001b[49m\u001b[43muser_id\u001b[49m\u001b[43m=\u001b[49m\u001b[33;43m\"\u001b[39;49m\u001b[33;43mu_456\u001b[39;49m\u001b[33;43m\"\u001b[39;49m\u001b[43m,\u001b[49m\n\u001b[32m      3\u001b[39m \u001b[43m    \u001b[49m\u001b[43msession_id\u001b[49m\u001b[43m=\u001b[49m\u001b[43mremote_session\u001b[49m\u001b[43m[\u001b[49m\u001b[33;43m\"\u001b[39;49m\u001b[33;43mid\u001b[39;49m\u001b[33;43m\"\u001b[39;49m\u001b[43m]\u001b[49m\u001b[43m,\u001b[49m\n\u001b[32m      4\u001b[39m \u001b[43m    \u001b[49m\u001b[43mmessage\u001b[49m\u001b[43m=\u001b[49m\u001b[33;43m\"\u001b[39;49m\u001b[33;43mHello World\u001b[39;49m\u001b[33;43m\"\u001b[39;49m\u001b[43m,\u001b[49m\n\u001b[32m      5\u001b[39m \u001b[43m)\u001b[49m\u001b[43m:\u001b[49m\n\u001b[32m      6\u001b[39m \u001b[43m    \u001b[49m\u001b[38;5;28;43mprint\u001b[39;49m\u001b[43m(\u001b[49m\u001b[43mevent\u001b[49m\u001b[43m)\u001b[49m\n",
      "\u001b[36mFile \u001b[39m\u001b[32m~/.pyenv/versions/3.11.12/lib/python3.11/site-packages/vertexai/agent_engines/_agent_engines.py:884\u001b[39m, in \u001b[36m_wrap_stream_query_operation.<locals>._method\u001b[39m\u001b[34m(self, **kwargs)\u001b[39m\n\u001b[32m    876\u001b[39m \u001b[38;5;28;01mdef\u001b[39;00m\u001b[38;5;250m \u001b[39m\u001b[34m_method\u001b[39m(\u001b[38;5;28mself\u001b[39m, **kwargs) -> Iterable[Any]:\n\u001b[32m    877\u001b[39m     response = \u001b[38;5;28mself\u001b[39m.execution_api_client.stream_query_reasoning_engine(\n\u001b[32m    878\u001b[39m         request=aip_types.StreamQueryReasoningEngineRequest(\n\u001b[32m    879\u001b[39m             name=\u001b[38;5;28mself\u001b[39m.resource_name,\n\u001b[32m   (...)\u001b[39m\u001b[32m    882\u001b[39m         ),\n\u001b[32m    883\u001b[39m     )\n\u001b[32m--> \u001b[39m\u001b[32m884\u001b[39m \u001b[43m    \u001b[49m\u001b[38;5;28;43;01mfor\u001b[39;49;00m\u001b[43m \u001b[49m\u001b[43mchunk\u001b[49m\u001b[43m \u001b[49m\u001b[38;5;129;43;01min\u001b[39;49;00m\u001b[43m \u001b[49m\u001b[43mresponse\u001b[49m\u001b[43m:\u001b[49m\n\u001b[32m    885\u001b[39m \u001b[43m        \u001b[49m\u001b[38;5;28;43;01mfor\u001b[39;49;00m\u001b[43m \u001b[49m\u001b[43mparsed_json\u001b[49m\u001b[43m \u001b[49m\u001b[38;5;129;43;01min\u001b[39;49;00m\u001b[43m \u001b[49m\u001b[43m_utils\u001b[49m\u001b[43m.\u001b[49m\u001b[43myield_parsed_json\u001b[49m\u001b[43m(\u001b[49m\u001b[43mchunk\u001b[49m\u001b[43m)\u001b[49m\u001b[43m:\u001b[49m\n\u001b[32m    886\u001b[39m \u001b[43m            \u001b[49m\u001b[38;5;28;43;01mif\u001b[39;49;00m\u001b[43m \u001b[49m\u001b[43mparsed_json\u001b[49m\u001b[43m \u001b[49m\u001b[38;5;129;43;01mis\u001b[39;49;00m\u001b[43m \u001b[49m\u001b[38;5;129;43;01mnot\u001b[39;49;00m\u001b[43m \u001b[49m\u001b[38;5;28;43;01mNone\u001b[39;49;00m\u001b[43m:\u001b[49m\n",
      "\u001b[36mFile \u001b[39m\u001b[32m~/.pyenv/versions/3.11.12/lib/python3.11/site-packages/google/api_core/rest_streaming.py:58\u001b[39m, in \u001b[36mResponseIterator.__next__\u001b[39m\u001b[34m(self)\u001b[39m\n\u001b[32m     56\u001b[39m \u001b[38;5;28;01mtry\u001b[39;00m:\n\u001b[32m     57\u001b[39m     chunk = \u001b[38;5;28mnext\u001b[39m(\u001b[38;5;28mself\u001b[39m._response_itr)\n\u001b[32m---> \u001b[39m\u001b[32m58\u001b[39m     \u001b[38;5;28;43mself\u001b[39;49m\u001b[43m.\u001b[49m\u001b[43m_process_chunk\u001b[49m\u001b[43m(\u001b[49m\u001b[43mchunk\u001b[49m\u001b[43m)\u001b[49m\n\u001b[32m     59\u001b[39m \u001b[38;5;28;01mexcept\u001b[39;00m \u001b[38;5;167;01mStopIteration\u001b[39;00m \u001b[38;5;28;01mas\u001b[39;00m e:\n\u001b[32m     60\u001b[39m     \u001b[38;5;28;01mif\u001b[39;00m \u001b[38;5;28mself\u001b[39m._level > \u001b[32m0\u001b[39m:\n",
      "\u001b[36mFile \u001b[39m\u001b[32m~/.pyenv/versions/3.11.12/lib/python3.11/site-packages/google/api_core/_rest_streaming_base.py:60\u001b[39m, in \u001b[36mBaseResponseIterator._process_chunk\u001b[39m\u001b[34m(self, chunk)\u001b[39m\n\u001b[32m     58\u001b[39m \u001b[38;5;28;01mif\u001b[39;00m \u001b[38;5;28mself\u001b[39m._level == \u001b[32m0\u001b[39m:\n\u001b[32m     59\u001b[39m     \u001b[38;5;28;01mif\u001b[39;00m chunk[\u001b[32m0\u001b[39m] != \u001b[33m\"\u001b[39m\u001b[33m[\u001b[39m\u001b[33m\"\u001b[39m:\n\u001b[32m---> \u001b[39m\u001b[32m60\u001b[39m         \u001b[38;5;28;01mraise\u001b[39;00m \u001b[38;5;167;01mValueError\u001b[39;00m(\n\u001b[32m     61\u001b[39m             \u001b[33m\"\u001b[39m\u001b[33mCan only parse array of JSON objects, instead got \u001b[39m\u001b[38;5;132;01m%s\u001b[39;00m\u001b[33m\"\u001b[39m % chunk\n\u001b[32m     62\u001b[39m         )\n\u001b[32m     63\u001b[39m \u001b[38;5;28;01mfor\u001b[39;00m char \u001b[38;5;129;01min\u001b[39;00m chunk:\n\u001b[32m     64\u001b[39m     \u001b[38;5;28;01mif\u001b[39;00m char == \u001b[33m\"\u001b[39m\u001b[33m{\u001b[39m\u001b[33m\"\u001b[39m:\n",
      "\u001b[31mValueError\u001b[39m: Can only parse array of JSON objects, instead got {\""
     ]
    }
   ],
   "source": [
    "for event in remote_app.stream_query(\n",
    "    user_id=\"u_456\",\n",
    "    session_id=remote_session[\"id\"],\n",
    "    message=\"Hello World\",\n",
    "):\n",
    "    print(event)"
   ]
  },
  {
   "cell_type": "code",
   "execution_count": null,
   "metadata": {
    "id": "ynNjnfs8z-un"
   },
   "outputs": [],
   "source": [
    "for remote_agent in agent_engines.list():\n",
    "  print(remote_agent.resource_name)"
   ]
  },
  {
   "cell_type": "code",
   "execution_count": 20,
   "metadata": {
    "id": "nXLQlnpOz-un"
   },
   "outputs": [
    {
     "name": "stderr",
     "output_type": "stream",
     "text": [
      "WARNING:root:REST async clients requires async credentials set using aiplatform.initializer._set_async_rest_credentials().\n",
      "Falling back to grpc since no async rest credentials were detected.\n"
     ]
    },
    {
     "name": "stdout",
     "output_type": "stream",
     "text": [
      "Delete Agent Engine backing LRO: projects/1017461389635/locations/us-central1/operations/4061259880403566592\n"
     ]
    },
    {
     "name": "stderr",
     "output_type": "stream",
     "text": [
      "INFO:vertexai.agent_engines:Delete Agent Engine backing LRO: projects/1017461389635/locations/us-central1/operations/4061259880403566592\n"
     ]
    },
    {
     "name": "stdout",
     "output_type": "stream",
     "text": [
      "Agent Engine deleted. Resource name: projects/1017461389635/locations/us-central1/reasoningEngines/103767509382987776\n"
     ]
    },
    {
     "name": "stderr",
     "output_type": "stream",
     "text": [
      "INFO:vertexai.agent_engines:Agent Engine deleted. Resource name: projects/1017461389635/locations/us-central1/reasoningEngines/103767509382987776\n",
      "WARNING:root:REST async clients requires async credentials set using aiplatform.initializer._set_async_rest_credentials().\n",
      "Falling back to grpc since no async rest credentials were detected.\n"
     ]
    },
    {
     "name": "stdout",
     "output_type": "stream",
     "text": [
      "Delete Agent Engine backing LRO: projects/1017461389635/locations/us-central1/operations/6103642311416086528\n"
     ]
    },
    {
     "name": "stderr",
     "output_type": "stream",
     "text": [
      "INFO:vertexai.agent_engines:Delete Agent Engine backing LRO: projects/1017461389635/locations/us-central1/operations/6103642311416086528\n"
     ]
    },
    {
     "name": "stdout",
     "output_type": "stream",
     "text": [
      "Agent Engine deleted. Resource name: projects/1017461389635/locations/us-central1/reasoningEngines/316562591776243712\n"
     ]
    },
    {
     "name": "stderr",
     "output_type": "stream",
     "text": [
      "INFO:vertexai.agent_engines:Agent Engine deleted. Resource name: projects/1017461389635/locations/us-central1/reasoningEngines/316562591776243712\n"
     ]
    }
   ],
   "source": [
    "# 削除\n",
    "for remote_agent in agent_engines.list():\n",
    "  remote_agent.delete(force=True)"
   ]
  }
 ],
 "metadata": {
  "colab": {
   "provenance": [],
   "toc_visible": true
  },
  "kernelspec": {
   "display_name": "Python 3",
   "language": "python",
   "name": "python3"
  },
  "language_info": {
   "codemirror_mode": {
    "name": "ipython",
    "version": 3
   },
   "file_extension": ".py",
   "mimetype": "text/x-python",
   "name": "python",
   "nbconvert_exporter": "python",
   "pygments_lexer": "ipython3",
   "version": "3.11.12"
  }
 },
 "nbformat": 4,
 "nbformat_minor": 0
}
