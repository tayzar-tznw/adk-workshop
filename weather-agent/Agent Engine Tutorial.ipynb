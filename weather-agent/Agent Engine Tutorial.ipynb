{
  "nbformat": 4,
  "nbformat_minor": 0,
  "metadata": {
    "colab": {
      "provenance": []
    },
    "kernelspec": {
      "name": "python3",
      "display_name": "Python 3"
    },
    "language_info": {
      "name": "python"
    }
  },
  "cells": [
    {
      "cell_type": "code",
      "source": [
        "  # Copyright 2024 Google LLC\n",
        "#\n",
        "# Licensed under the Apache License, Version 2.0 (the \"License\");\n",
        "# you may not use this file except in compliance with the License.\n",
        "# You may obtain a copy of the License at\n",
        "#\n",
        "#     https://www.apache.org/licenses/LICENSE-2.0\n",
        "#\n",
        "# Unless required by applicable law or agreed to in writing, software\n",
        "# distributed under the License is distributed on an \"AS IS\" BASIS,\n",
        "# WITHOUT WARRANTIES OR CONDITIONS OF ANY KIND, either express or implied.\n",
        "# See the License for the specific language governing permissions and\n",
        "# limitations under the License."
      ],
      "metadata": {
        "id": "4KG8heslwNdJ"
      },
      "execution_count": null,
      "outputs": []
    },
    {
      "cell_type": "markdown",
      "source": [],
      "metadata": {
        "id": "hkI8O2wRRoGA"
      }
    },
    {
      "cell_type": "markdown",
      "source": [
        "# Set up the environment\n",
        "\n",
        "Please follow the instruction in:\n",
        "https://cloud.google.com/vertex-ai/generative-ai/docs/agent-engine/set-up#sdk-installation"
      ],
      "metadata": {
        "id": "oWnJG6W9s9wz"
      }
    },
    {
      "cell_type": "code",
      "execution_count": null,
      "metadata": {
        "id": "chT-5K9yrrW9"
      },
      "outputs": [],
      "source": [
        "from google.colab import auth\n",
        "auth.authenticate_user()"
      ]
    },
    {
      "cell_type": "markdown",
      "source": [
        "aiofiles are required in colab enviroment"
      ],
      "metadata": {
        "id": "SlaGbK2AIGck"
      }
    },
    {
      "cell_type": "code",
      "source": [
        "!pip install aiofiles"
      ],
      "metadata": {
        "id": "l0k5LmnrnT1o",
        "colab": {
          "base_uri": "https://localhost:8080/"
        },
        "outputId": "baa61a34-e820-4fe8-bec0-c328bafe7bbc"
      },
      "execution_count": null,
      "outputs": [
        {
          "output_type": "stream",
          "name": "stdout",
          "text": [
            "Collecting aiofiles\n",
            "  Downloading aiofiles-24.1.0-py3-none-any.whl.metadata (10 kB)\n",
            "Downloading aiofiles-24.1.0-py3-none-any.whl (15 kB)\n",
            "Installing collected packages: aiofiles\n",
            "Successfully installed aiofiles-24.1.0\n"
          ]
        }
      ]
    },
    {
      "cell_type": "markdown",
      "source": [
        "The change [CL/756896866](CL/756896866) enabling asynchronous stream functionality in Agent Engine is released in google-cloud-aiplatform version 1.93.0."
      ],
      "metadata": {
        "id": "XaV626Mhs3ju"
      }
    },
    {
      "cell_type": "code",
      "source": [
        "!pip3 install \"google-cloud-aiplatform[agent_engines,adk]==1.93.0\" --force-reinstall --quiet"
      ],
      "metadata": {
        "collapsed": true,
        "id": "kbOr_nWeYa9g",
        "colab": {
          "base_uri": "https://localhost:8080/"
        },
        "outputId": "718e6061-44ca-4b93-e133-9d39e5bf6a9f"
      },
      "execution_count": null,
      "outputs": [
        {
          "output_type": "stream",
          "name": "stdout",
          "text": [
            "\u001b[2K     \u001b[90m━━━━━━━━━━━━━━━━━━━━━━━━━━━━━━━━━━━━━━━━\u001b[0m \u001b[32m66.6/66.6 kB\u001b[0m \u001b[31m3.4 MB/s\u001b[0m eta \u001b[36m0:00:00\u001b[0m\n",
            "\u001b[2K     \u001b[90m━━━━━━━━━━━━━━━━━━━━━━━━━━━━━━━━━━━━━━━━\u001b[0m \u001b[32m62.0/62.0 kB\u001b[0m \u001b[31m5.1 MB/s\u001b[0m eta \u001b[36m0:00:00\u001b[0m\n",
            "\u001b[2K   \u001b[90m━━━━━━━━━━━━━━━━━━━━━━━━━━━━━━━━━━━━━━━━\u001b[0m \u001b[32m7.6/7.6 MB\u001b[0m \u001b[31m59.6 MB/s\u001b[0m eta \u001b[36m0:00:00\u001b[0m\n",
            "\u001b[2K   \u001b[90m━━━━━━━━━━━━━━━━━━━━━━━━━━━━━━━━━━━━━━━━\u001b[0m \u001b[32m1.2/1.2 MB\u001b[0m \u001b[31m47.0 MB/s\u001b[0m eta \u001b[36m0:00:00\u001b[0m\n",
            "\u001b[2K   \u001b[90m━━━━━━━━━━━━━━━━━━━━━━━━━━━━━━━━━━━━━━━━\u001b[0m \u001b[32m160.1/160.1 kB\u001b[0m \u001b[31m11.3 MB/s\u001b[0m eta \u001b[36m0:00:00\u001b[0m\n",
            "\u001b[2K   \u001b[90m━━━━━━━━━━━━━━━━━━━━━━━━━━━━━━━━━━━━━━━━\u001b[0m \u001b[32m216.1/216.1 kB\u001b[0m \u001b[31m16.3 MB/s\u001b[0m eta \u001b[36m0:00:00\u001b[0m\n",
            "\u001b[2K   \u001b[90m━━━━━━━━━━━━━━━━━━━━━━━━━━━━━━━━━━━━━━━━\u001b[0m \u001b[32m253.5/253.5 kB\u001b[0m \u001b[31m20.0 MB/s\u001b[0m eta \u001b[36m0:00:00\u001b[0m\n",
            "\u001b[2K   \u001b[90m━━━━━━━━━━━━━━━━━━━━━━━━━━━━━━━━━━━━━━━━\u001b[0m \u001b[32m229.5/229.5 kB\u001b[0m \u001b[31m16.6 MB/s\u001b[0m eta \u001b[36m0:00:00\u001b[0m\n",
            "\u001b[2K   \u001b[90m━━━━━━━━━━━━━━━━━━━━━━━━━━━━━━━━━━━━━━━━\u001b[0m \u001b[32m394.3/394.3 kB\u001b[0m \u001b[31m25.4 MB/s\u001b[0m eta \u001b[36m0:00:00\u001b[0m\n",
            "\u001b[2K   \u001b[90m━━━━━━━━━━━━━━━━━━━━━━━━━━━━━━━━━━━━━━━━\u001b[0m \u001b[32m131.8/131.8 kB\u001b[0m \u001b[31m10.1 MB/s\u001b[0m eta \u001b[36m0:00:00\u001b[0m\n",
            "\u001b[2K   \u001b[90m━━━━━━━━━━━━━━━━━━━━━━━━━━━━━━━━━━━━━━━━\u001b[0m \u001b[32m103.3/103.3 kB\u001b[0m \u001b[31m7.0 MB/s\u001b[0m eta \u001b[36m0:00:00\u001b[0m\n",
            "\u001b[2K   \u001b[90m━━━━━━━━━━━━━━━━━━━━━━━━━━━━━━━━━━━━━━━━\u001b[0m \u001b[32m196.3/196.3 kB\u001b[0m \u001b[31m14.8 MB/s\u001b[0m eta \u001b[36m0:00:00\u001b[0m\n",
            "\u001b[2K   \u001b[90m━━━━━━━━━━━━━━━━━━━━━━━━━━━━━━━━━━━━━━━━\u001b[0m \u001b[32m119.0/119.0 kB\u001b[0m \u001b[31m10.4 MB/s\u001b[0m eta \u001b[36m0:00:00\u001b[0m\n",
            "\u001b[2K   \u001b[90m━━━━━━━━━━━━━━━━━━━━━━━━━━━━━━━━━━━━━━━━\u001b[0m \u001b[32m65.8/65.8 kB\u001b[0m \u001b[31m4.9 MB/s\u001b[0m eta \u001b[36m0:00:00\u001b[0m\n",
            "\u001b[2K   \u001b[90m━━━━━━━━━━━━━━━━━━━━━━━━━━━━━━━━━━━━━━━━\u001b[0m \u001b[32m194.9/194.9 kB\u001b[0m \u001b[31m14.3 MB/s\u001b[0m eta \u001b[36m0:00:00\u001b[0m\n",
            "\u001b[2K   \u001b[90m━━━━━━━━━━━━━━━━━━━━━━━━━━━━━━━━━━━━━━━━\u001b[0m \u001b[32m66.5/66.5 kB\u001b[0m \u001b[31m4.9 MB/s\u001b[0m eta \u001b[36m0:00:00\u001b[0m\n",
            "\u001b[2K   \u001b[90m━━━━━━━━━━━━━━━━━━━━━━━━━━━━━━━━━━━━━━━━\u001b[0m \u001b[32m50.2/50.2 kB\u001b[0m \u001b[31m3.9 MB/s\u001b[0m eta \u001b[36m0:00:00\u001b[0m\n",
            "\u001b[2K   \u001b[90m━━━━━━━━━━━━━━━━━━━━━━━━━━━━━━━━━━━━━━━━\u001b[0m \u001b[32m443.9/443.9 kB\u001b[0m \u001b[31m22.9 MB/s\u001b[0m eta \u001b[36m0:00:00\u001b[0m\n",
            "\u001b[2K   \u001b[90m━━━━━━━━━━━━━━━━━━━━━━━━━━━━━━━━━━━━━━━━\u001b[0m \u001b[32m2.0/2.0 MB\u001b[0m \u001b[31m53.4 MB/s\u001b[0m eta \u001b[36m0:00:00\u001b[0m\n",
            "\u001b[2K   \u001b[90m━━━━━━━━━━━━━━━━━━━━━━━━━━━━━━━━━━━━━━━━\u001b[0m \u001b[32m3.1/3.1 MB\u001b[0m \u001b[31m55.8 MB/s\u001b[0m eta \u001b[36m0:00:00\u001b[0m\n",
            "\u001b[2K   \u001b[90m━━━━━━━━━━━━━━━━━━━━━━━━━━━━━━━━━━━━━━━━\u001b[0m \u001b[32m45.8/45.8 kB\u001b[0m \u001b[31m3.2 MB/s\u001b[0m eta \u001b[36m0:00:00\u001b[0m\n",
            "\u001b[2K   \u001b[90m━━━━━━━━━━━━━━━━━━━━━━━━━━━━━━━━━━━━━━━━\u001b[0m \u001b[32m100.9/100.9 kB\u001b[0m \u001b[31m8.4 MB/s\u001b[0m eta \u001b[36m0:00:00\u001b[0m\n",
            "\u001b[2K   \u001b[90m━━━━━━━━━━━━━━━━━━━━━━━━━━━━━━━━━━━━━━━━\u001b[0m \u001b[32m232.1/232.1 kB\u001b[0m \u001b[31m15.4 MB/s\u001b[0m eta \u001b[36m0:00:00\u001b[0m\n",
            "\u001b[2K   \u001b[90m━━━━━━━━━━━━━━━━━━━━━━━━━━━━━━━━━━━━━━━━\u001b[0m \u001b[32m102.2/102.2 kB\u001b[0m \u001b[31m6.4 MB/s\u001b[0m eta \u001b[36m0:00:00\u001b[0m\n",
            "\u001b[2K   \u001b[90m━━━━━━━━━━━━━━━━━━━━━━━━━━━━━━━━━━━━━━━━\u001b[0m \u001b[32m95.2/95.2 kB\u001b[0m \u001b[31m6.8 MB/s\u001b[0m eta \u001b[36m0:00:00\u001b[0m\n",
            "\u001b[2K   \u001b[90m━━━━━━━━━━━━━━━━━━━━━━━━━━━━━━━━━━━━━━━━\u001b[0m \u001b[32m13.3/13.3 MB\u001b[0m \u001b[31m61.6 MB/s\u001b[0m eta \u001b[36m0:00:00\u001b[0m\n",
            "\u001b[2K   \u001b[90m━━━━━━━━━━━━━━━━━━━━━━━━━━━━━━━━━━━━━━━━\u001b[0m \u001b[32m217.1/217.1 kB\u001b[0m \u001b[31m13.0 MB/s\u001b[0m eta \u001b[36m0:00:00\u001b[0m\n",
            "\u001b[2K   \u001b[90m━━━━━━━━━━━━━━━━━━━━━━━━━━━━━━━━━━━━━━━━\u001b[0m \u001b[32m334.1/334.1 kB\u001b[0m \u001b[31m20.5 MB/s\u001b[0m eta \u001b[36m0:00:00\u001b[0m\n",
            "\u001b[2K   \u001b[90m━━━━━━━━━━━━━━━━━━━━━━━━━━━━━━━━━━━━━━━━\u001b[0m \u001b[32m81.3/81.3 kB\u001b[0m \u001b[31m6.4 MB/s\u001b[0m eta \u001b[36m0:00:00\u001b[0m\n",
            "\u001b[2K   \u001b[90m━━━━━━━━━━━━━━━━━━━━━━━━━━━━━━━━━━━━━━━━\u001b[0m \u001b[32m294.5/294.5 kB\u001b[0m \u001b[31m19.5 MB/s\u001b[0m eta \u001b[36m0:00:00\u001b[0m\n",
            "\u001b[2K   \u001b[90m━━━━━━━━━━━━━━━━━━━━━━━━━━━━━━━━━━━━━━━━\u001b[0m \u001b[32m47.1/47.1 kB\u001b[0m \u001b[31m3.3 MB/s\u001b[0m eta \u001b[36m0:00:00\u001b[0m\n",
            "\u001b[2K   \u001b[90m━━━━━━━━━━━━━━━━━━━━━━━━━━━━━━━━━━━━━━━━\u001b[0m \u001b[32m5.9/5.9 MB\u001b[0m \u001b[31m78.7 MB/s\u001b[0m eta \u001b[36m0:00:00\u001b[0m\n",
            "\u001b[2K   \u001b[90m━━━━━━━━━━━━━━━━━━━━━━━━━━━━━━━━━━━━━━━━\u001b[0m \u001b[32m319.7/319.7 kB\u001b[0m \u001b[31m19.5 MB/s\u001b[0m eta \u001b[36m0:00:00\u001b[0m\n",
            "\u001b[2K   \u001b[90m━━━━━━━━━━━━━━━━━━━━━━━━━━━━━━━━━━━━━━━━\u001b[0m \u001b[32m73.5/73.5 kB\u001b[0m \u001b[31m5.5 MB/s\u001b[0m eta \u001b[36m0:00:00\u001b[0m\n",
            "\u001b[2K   \u001b[90m━━━━━━━━━━━━━━━━━━━━━━━━━━━━━━━━━━━━━━━━\u001b[0m \u001b[32m78.8/78.8 kB\u001b[0m \u001b[31m6.4 MB/s\u001b[0m eta \u001b[36m0:00:00\u001b[0m\n",
            "\u001b[2K   \u001b[90m━━━━━━━━━━━━━━━━━━━━━━━━━━━━━━━━━━━━━━━━\u001b[0m \u001b[32m125.1/125.1 kB\u001b[0m \u001b[31m8.8 MB/s\u001b[0m eta \u001b[36m0:00:00\u001b[0m\n",
            "\u001b[2K   \u001b[90m━━━━━━━━━━━━━━━━━━━━━━━━━━━━━━━━━━━━━━━━\u001b[0m \u001b[32m16.8/16.8 MB\u001b[0m \u001b[31m57.7 MB/s\u001b[0m eta \u001b[36m0:00:00\u001b[0m\n",
            "\u001b[2K   \u001b[90m━━━━━━━━━━━━━━━━━━━━━━━━━━━━━━━━━━━━━━━━\u001b[0m \u001b[32m181.3/181.3 kB\u001b[0m \u001b[31m14.0 MB/s\u001b[0m eta \u001b[36m0:00:00\u001b[0m\n",
            "\u001b[2K   \u001b[90m━━━━━━━━━━━━━━━━━━━━━━━━━━━━━━━━━━━━━━━━\u001b[0m \u001b[32m229.9/229.9 kB\u001b[0m \u001b[31m17.0 MB/s\u001b[0m eta \u001b[36m0:00:00\u001b[0m\n",
            "\u001b[2K   \u001b[90m━━━━━━━━━━━━━━━━━━━━━━━━━━━━━━━━━━━━━━━━\u001b[0m \u001b[32m763.0/763.0 kB\u001b[0m \u001b[31m31.4 MB/s\u001b[0m eta \u001b[36m0:00:00\u001b[0m\n",
            "\u001b[2K   \u001b[90m━━━━━━━━━━━━━━━━━━━━━━━━━━━━━━━━━━━━━━━━\u001b[0m \u001b[32m64.9/64.9 kB\u001b[0m \u001b[31m4.7 MB/s\u001b[0m eta \u001b[36m0:00:00\u001b[0m\n",
            "\u001b[2K   \u001b[90m━━━━━━━━━━━━━━━━━━━━━━━━━━━━━━━━━━━━━━━━\u001b[0m \u001b[32m3.3/3.3 MB\u001b[0m \u001b[31m81.5 MB/s\u001b[0m eta \u001b[36m0:00:00\u001b[0m\n",
            "\u001b[2K   \u001b[90m━━━━━━━━━━━━━━━━━━━━━━━━━━━━━━━━━━━━━━━━\u001b[0m \u001b[32m62.5/62.5 kB\u001b[0m \u001b[31m4.6 MB/s\u001b[0m eta \u001b[36m0:00:00\u001b[0m\n",
            "\u001b[2K   \u001b[90m━━━━━━━━━━━━━━━━━━━━━━━━━━━━━━━━━━━━━━━━\u001b[0m \u001b[32m182.3/182.3 kB\u001b[0m \u001b[31m13.5 MB/s\u001b[0m eta \u001b[36m0:00:00\u001b[0m\n",
            "\u001b[2K   \u001b[90m━━━━━━━━━━━━━━━━━━━━━━━━━━━━━━━━━━━━━━━━\u001b[0m \u001b[32m159.6/159.6 kB\u001b[0m \u001b[31m10.9 MB/s\u001b[0m eta \u001b[36m0:00:00\u001b[0m\n",
            "\u001b[2K   \u001b[90m━━━━━━━━━━━━━━━━━━━━━━━━━━━━━━━━━━━━━━━━\u001b[0m \u001b[32m147.3/147.3 kB\u001b[0m \u001b[31m11.2 MB/s\u001b[0m eta \u001b[36m0:00:00\u001b[0m\n",
            "\u001b[2K   \u001b[90m━━━━━━━━━━━━━━━━━━━━━━━━━━━━━━━━━━━━━━━━\u001b[0m \u001b[32m583.9/583.9 kB\u001b[0m \u001b[31m30.1 MB/s\u001b[0m eta \u001b[36m0:00:00\u001b[0m\n",
            "\u001b[2K   \u001b[90m━━━━━━━━━━━━━━━━━━━━━━━━━━━━━━━━━━━━━━━━\u001b[0m \u001b[32m96.9/96.9 kB\u001b[0m \u001b[31m7.8 MB/s\u001b[0m eta \u001b[36m0:00:00\u001b[0m\n",
            "\u001b[2K   \u001b[90m━━━━━━━━━━━━━━━━━━━━━━━━━━━━━━━━━━━━━━━━\u001b[0m \u001b[32m70.4/70.4 kB\u001b[0m \u001b[31m6.2 MB/s\u001b[0m eta \u001b[36m0:00:00\u001b[0m\n",
            "\u001b[2K   \u001b[90m━━━━━━━━━━━━━━━━━━━━━━━━━━━━━━━━━━━━━━━━\u001b[0m \u001b[32m83.1/83.1 kB\u001b[0m \u001b[31m6.2 MB/s\u001b[0m eta \u001b[36m0:00:00\u001b[0m\n",
            "\u001b[2K   \u001b[90m━━━━━━━━━━━━━━━━━━━━━━━━━━━━━━━━━━━━━━━━\u001b[0m \u001b[32m44.4/44.4 kB\u001b[0m \u001b[31m3.1 MB/s\u001b[0m eta \u001b[36m0:00:00\u001b[0m\n",
            "\u001b[2K   \u001b[90m━━━━━━━━━━━━━━━━━━━━━━━━━━━━━━━━━━━━━━━━\u001b[0m \u001b[32m72.0/72.0 kB\u001b[0m \u001b[31m5.4 MB/s\u001b[0m eta \u001b[36m0:00:00\u001b[0m\n",
            "\u001b[2K   \u001b[90m━━━━━━━━━━━━━━━━━━━━━━━━━━━━━━━━━━━━━━━━\u001b[0m \u001b[32m128.7/128.7 kB\u001b[0m \u001b[31m8.8 MB/s\u001b[0m eta \u001b[36m0:00:00\u001b[0m\n",
            "\u001b[2K   \u001b[90m━━━━━━━━━━━━━━━━━━━━━━━━━━━━━━━━━━━━━━━━\u001b[0m \u001b[32m4.5/4.5 MB\u001b[0m \u001b[31m66.1 MB/s\u001b[0m eta \u001b[36m0:00:00\u001b[0m\n",
            "\u001b[2K   \u001b[90m━━━━━━━━━━━━━━━━━━━━━━━━━━━━━━━━━━━━━━━━\u001b[0m \u001b[32m467.2/467.2 kB\u001b[0m \u001b[31m27.1 MB/s\u001b[0m eta \u001b[36m0:00:00\u001b[0m\n",
            "\u001b[2K   \u001b[90m━━━━━━━━━━━━━━━━━━━━━━━━━━━━━━━━━━━━━━━━\u001b[0m \u001b[32m111.1/111.1 kB\u001b[0m \u001b[31m7.7 MB/s\u001b[0m eta \u001b[36m0:00:00\u001b[0m\n",
            "\u001b[2K   \u001b[90m━━━━━━━━━━━━━━━━━━━━━━━━━━━━━━━━━━━━━━━━\u001b[0m \u001b[32m83.2/83.2 kB\u001b[0m \u001b[31m6.0 MB/s\u001b[0m eta \u001b[36m0:00:00\u001b[0m\n",
            "\u001b[2K   \u001b[90m━━━━━━━━━━━━━━━━━━━━━━━━━━━━━━━━━━━━━━━━\u001b[0m \u001b[32m117.6/117.6 kB\u001b[0m \u001b[31m9.3 MB/s\u001b[0m eta \u001b[36m0:00:00\u001b[0m\n",
            "\u001b[?25h\u001b[31mERROR: pip's dependency resolver does not currently take into account all the packages that are installed. This behaviour is the source of the following dependency conflicts.\n",
            "google-colab 1.0.0 requires google-auth==2.38.0, but you have google-auth 2.40.2 which is incompatible.\n",
            "torch 2.6.0+cu124 requires nvidia-cublas-cu12==12.4.5.8; platform_system == \"Linux\" and platform_machine == \"x86_64\", but you have nvidia-cublas-cu12 12.5.3.2 which is incompatible.\n",
            "torch 2.6.0+cu124 requires nvidia-cuda-cupti-cu12==12.4.127; platform_system == \"Linux\" and platform_machine == \"x86_64\", but you have nvidia-cuda-cupti-cu12 12.5.82 which is incompatible.\n",
            "torch 2.6.0+cu124 requires nvidia-cuda-nvrtc-cu12==12.4.127; platform_system == \"Linux\" and platform_machine == \"x86_64\", but you have nvidia-cuda-nvrtc-cu12 12.5.82 which is incompatible.\n",
            "torch 2.6.0+cu124 requires nvidia-cuda-runtime-cu12==12.4.127; platform_system == \"Linux\" and platform_machine == \"x86_64\", but you have nvidia-cuda-runtime-cu12 12.5.82 which is incompatible.\n",
            "torch 2.6.0+cu124 requires nvidia-cudnn-cu12==9.1.0.70; platform_system == \"Linux\" and platform_machine == \"x86_64\", but you have nvidia-cudnn-cu12 9.3.0.75 which is incompatible.\n",
            "torch 2.6.0+cu124 requires nvidia-cufft-cu12==11.2.1.3; platform_system == \"Linux\" and platform_machine == \"x86_64\", but you have nvidia-cufft-cu12 11.2.3.61 which is incompatible.\n",
            "torch 2.6.0+cu124 requires nvidia-curand-cu12==10.3.5.147; platform_system == \"Linux\" and platform_machine == \"x86_64\", but you have nvidia-curand-cu12 10.3.6.82 which is incompatible.\n",
            "torch 2.6.0+cu124 requires nvidia-cusolver-cu12==11.6.1.9; platform_system == \"Linux\" and platform_machine == \"x86_64\", but you have nvidia-cusolver-cu12 11.6.3.83 which is incompatible.\n",
            "torch 2.6.0+cu124 requires nvidia-cusparse-cu12==12.3.1.170; platform_system == \"Linux\" and platform_machine == \"x86_64\", but you have nvidia-cusparse-cu12 12.5.1.3 which is incompatible.\n",
            "torch 2.6.0+cu124 requires nvidia-nvjitlink-cu12==12.4.127; platform_system == \"Linux\" and platform_machine == \"x86_64\", but you have nvidia-nvjitlink-cu12 12.5.82 which is incompatible.\n",
            "numba 0.60.0 requires numpy<2.1,>=1.22, but you have numpy 2.2.6 which is incompatible.\n",
            "langchain-core 0.3.59 requires packaging<25,>=23.2, but you have packaging 25.0 which is incompatible.\n",
            "pyopenssl 24.2.1 requires cryptography<44,>=41.0.5, but you have cryptography 45.0.2 which is incompatible.\n",
            "pydrive2 1.21.3 requires cryptography<44, but you have cryptography 45.0.2 which is incompatible.\n",
            "tensorflow 2.18.0 requires numpy<2.1.0,>=1.26.0, but you have numpy 2.2.6 which is incompatible.\u001b[0m\u001b[31m\n",
            "\u001b[0m"
          ]
        }
      ]
    },
    {
      "cell_type": "code",
      "source": [
        "# prompt: how to install specific version of ADK\n",
        "\n",
        "!pip install google-adk==0.5.0"
      ],
      "metadata": {
        "colab": {
          "base_uri": "https://localhost:8080/"
        },
        "collapsed": true,
        "id": "_HHU4FFnLCB2",
        "outputId": "740b224c-869f-4c05-d5e2-018fd455baf0"
      },
      "execution_count": null,
      "outputs": [
        {
          "output_type": "stream",
          "name": "stdout",
          "text": [
            "Collecting google-adk==0.5.0\n",
            "  Downloading google_adk-0.5.0-py3-none-any.whl.metadata (9.7 kB)\n",
            "Requirement already satisfied: authlib>=1.5.1 in /usr/local/lib/python3.11/dist-packages (from google-adk==0.5.0) (1.5.2)\n",
            "Requirement already satisfied: click>=8.1.8 in /usr/local/lib/python3.11/dist-packages (from google-adk==0.5.0) (8.2.1)\n",
            "Requirement already satisfied: fastapi>=0.115.0 in /usr/local/lib/python3.11/dist-packages (from google-adk==0.5.0) (0.115.12)\n",
            "Requirement already satisfied: google-api-python-client>=2.157.0 in /usr/local/lib/python3.11/dist-packages (from google-adk==0.5.0) (2.169.0)\n",
            "Requirement already satisfied: google-cloud-aiplatform>=1.87.0 in /usr/local/lib/python3.11/dist-packages (from google-adk==0.5.0) (1.93.0)\n",
            "Requirement already satisfied: google-cloud-secret-manager>=2.22.0 in /usr/local/lib/python3.11/dist-packages (from google-adk==0.5.0) (2.23.3)\n",
            "Requirement already satisfied: google-cloud-speech>=2.30.0 in /usr/local/lib/python3.11/dist-packages (from google-adk==0.5.0) (2.32.0)\n",
            "Requirement already satisfied: google-cloud-storage<3.0.0,>=2.18.0 in /usr/local/lib/python3.11/dist-packages (from google-adk==0.5.0) (2.19.0)\n",
            "Requirement already satisfied: google-genai>=1.12.1 in /usr/local/lib/python3.11/dist-packages (from google-adk==0.5.0) (1.16.1)\n",
            "Requirement already satisfied: graphviz>=0.20.2 in /usr/local/lib/python3.11/dist-packages (from google-adk==0.5.0) (0.20.3)\n",
            "Requirement already satisfied: mcp>=1.5.0 in /usr/local/lib/python3.11/dist-packages (from google-adk==0.5.0) (1.9.0)\n",
            "Requirement already satisfied: opentelemetry-api>=1.31.0 in /usr/local/lib/python3.11/dist-packages (from google-adk==0.5.0) (1.33.1)\n",
            "Requirement already satisfied: opentelemetry-exporter-gcp-trace>=1.9.0 in /usr/local/lib/python3.11/dist-packages (from google-adk==0.5.0) (1.9.0)\n",
            "Requirement already satisfied: opentelemetry-sdk>=1.31.0 in /usr/local/lib/python3.11/dist-packages (from google-adk==0.5.0) (1.33.1)\n",
            "Requirement already satisfied: pydantic<3.0.0,>=2.0 in /usr/local/lib/python3.11/dist-packages (from google-adk==0.5.0) (2.11.4)\n",
            "Requirement already satisfied: python-dotenv>=1.0.0 in /usr/local/lib/python3.11/dist-packages (from google-adk==0.5.0) (1.1.0)\n",
            "Requirement already satisfied: PyYAML>=6.0.2 in /usr/local/lib/python3.11/dist-packages (from google-adk==0.5.0) (6.0.2)\n",
            "Requirement already satisfied: sqlalchemy>=2.0 in /usr/local/lib/python3.11/dist-packages (from google-adk==0.5.0) (2.0.41)\n",
            "Requirement already satisfied: tzlocal>=5.3 in /usr/local/lib/python3.11/dist-packages (from google-adk==0.5.0) (5.3.1)\n",
            "Requirement already satisfied: uvicorn>=0.34.0 in /usr/local/lib/python3.11/dist-packages (from google-adk==0.5.0) (0.34.2)\n",
            "Requirement already satisfied: cryptography in /usr/local/lib/python3.11/dist-packages (from authlib>=1.5.1->google-adk==0.5.0) (45.0.2)\n",
            "Requirement already satisfied: starlette<0.47.0,>=0.40.0 in /usr/local/lib/python3.11/dist-packages (from fastapi>=0.115.0->google-adk==0.5.0) (0.46.2)\n",
            "Requirement already satisfied: typing-extensions>=4.8.0 in /usr/local/lib/python3.11/dist-packages (from fastapi>=0.115.0->google-adk==0.5.0) (4.13.2)\n",
            "Requirement already satisfied: httplib2<1.0.0,>=0.19.0 in /usr/local/lib/python3.11/dist-packages (from google-api-python-client>=2.157.0->google-adk==0.5.0) (0.22.0)\n",
            "Requirement already satisfied: google-auth!=2.24.0,!=2.25.0,<3.0.0,>=1.32.0 in /usr/local/lib/python3.11/dist-packages (from google-api-python-client>=2.157.0->google-adk==0.5.0) (2.40.2)\n",
            "Requirement already satisfied: google-auth-httplib2<1.0.0,>=0.2.0 in /usr/local/lib/python3.11/dist-packages (from google-api-python-client>=2.157.0->google-adk==0.5.0) (0.2.0)\n",
            "Requirement already satisfied: google-api-core!=2.0.*,!=2.1.*,!=2.2.*,!=2.3.0,<3.0.0,>=1.31.5 in /usr/local/lib/python3.11/dist-packages (from google-api-python-client>=2.157.0->google-adk==0.5.0) (2.24.2)\n",
            "Requirement already satisfied: uritemplate<5,>=3.0.1 in /usr/local/lib/python3.11/dist-packages (from google-api-python-client>=2.157.0->google-adk==0.5.0) (4.1.1)\n",
            "Requirement already satisfied: proto-plus<2.0.0,>=1.22.3 in /usr/local/lib/python3.11/dist-packages (from google-cloud-aiplatform>=1.87.0->google-adk==0.5.0) (1.26.1)\n",
            "Requirement already satisfied: protobuf!=4.21.0,!=4.21.1,!=4.21.2,!=4.21.3,!=4.21.4,!=4.21.5,<7.0.0,>=3.20.2 in /usr/local/lib/python3.11/dist-packages (from google-cloud-aiplatform>=1.87.0->google-adk==0.5.0) (5.29.4)\n",
            "Requirement already satisfied: packaging>=14.3 in /usr/local/lib/python3.11/dist-packages (from google-cloud-aiplatform>=1.87.0->google-adk==0.5.0) (25.0)\n",
            "Requirement already satisfied: google-cloud-bigquery!=3.20.0,<4.0.0,>=1.15.0 in /usr/local/lib/python3.11/dist-packages (from google-cloud-aiplatform>=1.87.0->google-adk==0.5.0) (3.33.0)\n",
            "Requirement already satisfied: google-cloud-resource-manager<3.0.0,>=1.3.3 in /usr/local/lib/python3.11/dist-packages (from google-cloud-aiplatform>=1.87.0->google-adk==0.5.0) (1.14.2)\n",
            "Requirement already satisfied: shapely<3.0.0 in /usr/local/lib/python3.11/dist-packages (from google-cloud-aiplatform>=1.87.0->google-adk==0.5.0) (2.1.1)\n",
            "Requirement already satisfied: docstring-parser<1 in /usr/local/lib/python3.11/dist-packages (from google-cloud-aiplatform>=1.87.0->google-adk==0.5.0) (0.16)\n",
            "Requirement already satisfied: grpc-google-iam-v1<1.0.0,>=0.14.0 in /usr/local/lib/python3.11/dist-packages (from google-cloud-secret-manager>=2.22.0->google-adk==0.5.0) (0.14.2)\n",
            "Requirement already satisfied: google-cloud-core<3.0dev,>=2.3.0 in /usr/local/lib/python3.11/dist-packages (from google-cloud-storage<3.0.0,>=2.18.0->google-adk==0.5.0) (2.4.3)\n",
            "Requirement already satisfied: google-resumable-media>=2.7.2 in /usr/local/lib/python3.11/dist-packages (from google-cloud-storage<3.0.0,>=2.18.0->google-adk==0.5.0) (2.7.2)\n",
            "Requirement already satisfied: requests<3.0.0dev,>=2.18.0 in /usr/local/lib/python3.11/dist-packages (from google-cloud-storage<3.0.0,>=2.18.0->google-adk==0.5.0) (2.32.3)\n",
            "Requirement already satisfied: google-crc32c<2.0dev,>=1.0 in /usr/local/lib/python3.11/dist-packages (from google-cloud-storage<3.0.0,>=2.18.0->google-adk==0.5.0) (1.7.1)\n",
            "Requirement already satisfied: anyio<5.0.0,>=4.8.0 in /usr/local/lib/python3.11/dist-packages (from google-genai>=1.12.1->google-adk==0.5.0) (4.9.0)\n",
            "Requirement already satisfied: httpx<1.0.0,>=0.28.1 in /usr/local/lib/python3.11/dist-packages (from google-genai>=1.12.1->google-adk==0.5.0) (0.28.1)\n",
            "Requirement already satisfied: websockets<15.1.0,>=13.0.0 in /usr/local/lib/python3.11/dist-packages (from google-genai>=1.12.1->google-adk==0.5.0) (15.0.1)\n",
            "Requirement already satisfied: httpx-sse>=0.4 in /usr/local/lib/python3.11/dist-packages (from mcp>=1.5.0->google-adk==0.5.0) (0.4.0)\n",
            "Requirement already satisfied: pydantic-settings>=2.5.2 in /usr/local/lib/python3.11/dist-packages (from mcp>=1.5.0->google-adk==0.5.0) (2.9.1)\n",
            "Requirement already satisfied: python-multipart>=0.0.9 in /usr/local/lib/python3.11/dist-packages (from mcp>=1.5.0->google-adk==0.5.0) (0.0.20)\n",
            "Requirement already satisfied: sse-starlette>=1.6.1 in /usr/local/lib/python3.11/dist-packages (from mcp>=1.5.0->google-adk==0.5.0) (2.3.5)\n",
            "Requirement already satisfied: deprecated>=1.2.6 in /usr/local/lib/python3.11/dist-packages (from opentelemetry-api>=1.31.0->google-adk==0.5.0) (1.2.18)\n",
            "Requirement already satisfied: importlib-metadata<8.7.0,>=6.0 in /usr/local/lib/python3.11/dist-packages (from opentelemetry-api>=1.31.0->google-adk==0.5.0) (8.6.1)\n",
            "Requirement already satisfied: google-cloud-trace~=1.1 in /usr/local/lib/python3.11/dist-packages (from opentelemetry-exporter-gcp-trace>=1.9.0->google-adk==0.5.0) (1.16.1)\n",
            "Requirement already satisfied: opentelemetry-resourcedetector-gcp==1.*,>=1.5.0dev0 in /usr/local/lib/python3.11/dist-packages (from opentelemetry-exporter-gcp-trace>=1.9.0->google-adk==0.5.0) (1.9.0a0)\n",
            "Requirement already satisfied: opentelemetry-semantic-conventions==0.54b1 in /usr/local/lib/python3.11/dist-packages (from opentelemetry-sdk>=1.31.0->google-adk==0.5.0) (0.54b1)\n",
            "Requirement already satisfied: annotated-types>=0.6.0 in /usr/local/lib/python3.11/dist-packages (from pydantic<3.0.0,>=2.0->google-adk==0.5.0) (0.7.0)\n",
            "Requirement already satisfied: pydantic-core==2.33.2 in /usr/local/lib/python3.11/dist-packages (from pydantic<3.0.0,>=2.0->google-adk==0.5.0) (2.33.2)\n",
            "Requirement already satisfied: typing-inspection>=0.4.0 in /usr/local/lib/python3.11/dist-packages (from pydantic<3.0.0,>=2.0->google-adk==0.5.0) (0.4.1)\n",
            "Requirement already satisfied: greenlet>=1 in /usr/local/lib/python3.11/dist-packages (from sqlalchemy>=2.0->google-adk==0.5.0) (3.2.2)\n",
            "Requirement already satisfied: h11>=0.8 in /usr/local/lib/python3.11/dist-packages (from uvicorn>=0.34.0->google-adk==0.5.0) (0.16.0)\n",
            "Requirement already satisfied: idna>=2.8 in /usr/local/lib/python3.11/dist-packages (from anyio<5.0.0,>=4.8.0->google-genai>=1.12.1->google-adk==0.5.0) (3.10)\n",
            "Requirement already satisfied: sniffio>=1.1 in /usr/local/lib/python3.11/dist-packages (from anyio<5.0.0,>=4.8.0->google-genai>=1.12.1->google-adk==0.5.0) (1.3.1)\n",
            "Requirement already satisfied: wrapt<2,>=1.10 in /usr/local/lib/python3.11/dist-packages (from deprecated>=1.2.6->opentelemetry-api>=1.31.0->google-adk==0.5.0) (1.17.2)\n",
            "Requirement already satisfied: googleapis-common-protos<2.0.0,>=1.56.2 in /usr/local/lib/python3.11/dist-packages (from google-api-core!=2.0.*,!=2.1.*,!=2.2.*,!=2.3.0,<3.0.0,>=1.31.5->google-api-python-client>=2.157.0->google-adk==0.5.0) (1.70.0)\n",
            "Requirement already satisfied: grpcio<2.0dev,>=1.33.2 in /usr/local/lib/python3.11/dist-packages (from google-api-core[grpc]!=2.0.*,!=2.1.*,!=2.2.*,!=2.3.*,!=2.4.*,!=2.5.*,!=2.6.*,!=2.7.*,<3.0.0,>=1.34.1->google-cloud-aiplatform>=1.87.0->google-adk==0.5.0) (1.71.0)\n",
            "Requirement already satisfied: grpcio-status<2.0.dev0,>=1.33.2 in /usr/local/lib/python3.11/dist-packages (from google-api-core[grpc]!=2.0.*,!=2.1.*,!=2.2.*,!=2.3.*,!=2.4.*,!=2.5.*,!=2.6.*,!=2.7.*,<3.0.0,>=1.34.1->google-cloud-aiplatform>=1.87.0->google-adk==0.5.0) (1.71.0)\n",
            "Requirement already satisfied: cachetools<6.0,>=2.0.0 in /usr/local/lib/python3.11/dist-packages (from google-auth!=2.24.0,!=2.25.0,<3.0.0,>=1.32.0->google-api-python-client>=2.157.0->google-adk==0.5.0) (5.5.2)\n",
            "Requirement already satisfied: pyasn1-modules>=0.2.1 in /usr/local/lib/python3.11/dist-packages (from google-auth!=2.24.0,!=2.25.0,<3.0.0,>=1.32.0->google-api-python-client>=2.157.0->google-adk==0.5.0) (0.4.2)\n",
            "Requirement already satisfied: rsa<5,>=3.1.4 in /usr/local/lib/python3.11/dist-packages (from google-auth!=2.24.0,!=2.25.0,<3.0.0,>=1.32.0->google-api-python-client>=2.157.0->google-adk==0.5.0) (4.9.1)\n",
            "Requirement already satisfied: python-dateutil<3.0.0,>=2.8.2 in /usr/local/lib/python3.11/dist-packages (from google-cloud-bigquery!=3.20.0,<4.0.0,>=1.15.0->google-cloud-aiplatform>=1.87.0->google-adk==0.5.0) (2.9.0.post0)\n",
            "Requirement already satisfied: pyparsing!=3.0.0,!=3.0.1,!=3.0.2,!=3.0.3,<4,>=2.4.2 in /usr/local/lib/python3.11/dist-packages (from httplib2<1.0.0,>=0.19.0->google-api-python-client>=2.157.0->google-adk==0.5.0) (3.2.3)\n",
            "Requirement already satisfied: certifi in /usr/local/lib/python3.11/dist-packages (from httpx<1.0.0,>=0.28.1->google-genai>=1.12.1->google-adk==0.5.0) (2025.4.26)\n",
            "Requirement already satisfied: httpcore==1.* in /usr/local/lib/python3.11/dist-packages (from httpx<1.0.0,>=0.28.1->google-genai>=1.12.1->google-adk==0.5.0) (1.0.9)\n",
            "Requirement already satisfied: zipp>=3.20 in /usr/local/lib/python3.11/dist-packages (from importlib-metadata<8.7.0,>=6.0->opentelemetry-api>=1.31.0->google-adk==0.5.0) (3.21.0)\n",
            "Requirement already satisfied: charset-normalizer<4,>=2 in /usr/local/lib/python3.11/dist-packages (from requests<3.0.0dev,>=2.18.0->google-cloud-storage<3.0.0,>=2.18.0->google-adk==0.5.0) (3.4.2)\n",
            "Requirement already satisfied: urllib3<3,>=1.21.1 in /usr/local/lib/python3.11/dist-packages (from requests<3.0.0dev,>=2.18.0->google-cloud-storage<3.0.0,>=2.18.0->google-adk==0.5.0) (2.4.0)\n",
            "Requirement already satisfied: numpy>=1.21 in /usr/local/lib/python3.11/dist-packages (from shapely<3.0.0->google-cloud-aiplatform>=1.87.0->google-adk==0.5.0) (2.2.6)\n",
            "Requirement already satisfied: cffi>=1.14 in /usr/local/lib/python3.11/dist-packages (from cryptography->authlib>=1.5.1->google-adk==0.5.0) (1.17.1)\n",
            "Requirement already satisfied: pycparser in /usr/local/lib/python3.11/dist-packages (from cffi>=1.14->cryptography->authlib>=1.5.1->google-adk==0.5.0) (2.22)\n",
            "Requirement already satisfied: pyasn1<0.7.0,>=0.6.1 in /usr/local/lib/python3.11/dist-packages (from pyasn1-modules>=0.2.1->google-auth!=2.24.0,!=2.25.0,<3.0.0,>=1.32.0->google-api-python-client>=2.157.0->google-adk==0.5.0) (0.6.1)\n",
            "Requirement already satisfied: six>=1.5 in /usr/local/lib/python3.11/dist-packages (from python-dateutil<3.0.0,>=2.8.2->google-cloud-bigquery!=3.20.0,<4.0.0,>=1.15.0->google-cloud-aiplatform>=1.87.0->google-adk==0.5.0) (1.17.0)\n",
            "Downloading google_adk-0.5.0-py3-none-any.whl (1.2 MB)\n",
            "\u001b[2K   \u001b[90m━━━━━━━━━━━━━━━━━━━━━━━━━━━━━━━━━━━━━━━━\u001b[0m \u001b[32m1.2/1.2 MB\u001b[0m \u001b[31m21.1 MB/s\u001b[0m eta \u001b[36m0:00:00\u001b[0m\n",
            "\u001b[?25hInstalling collected packages: google-adk\n",
            "  Attempting uninstall: google-adk\n",
            "    Found existing installation: google-adk 1.0.0\n",
            "    Uninstalling google-adk-1.0.0:\n",
            "      Successfully uninstalled google-adk-1.0.0\n",
            "Successfully installed google-adk-0.5.0\n"
          ]
        }
      ]
    },
    {
      "cell_type": "markdown",
      "source": [
        "Please restart the kernal."
      ],
      "metadata": {
        "id": "kY8K4RkIuCEQ"
      }
    },
    {
      "cell_type": "markdown",
      "source": [
        "## Initialize"
      ],
      "metadata": {
        "id": "McBn_7z3znbT"
      }
    },
    {
      "cell_type": "code",
      "source": [
        "import vertexai\n",
        "from vertexai import agent_engines\n",
        "\n",
        "PROJECT_ID = \"vital-octagon-19612\" #@param {type:\"string\"}\n",
        "LOCATION = \"us-central1\" #@param {type:\"string\"}\n",
        "STAGING_BUCKET = \"gs://d11finetuning\" #@param {type:\"string\"}\n",
        "\n",
        "vertexai.init(\n",
        "    project=PROJECT_ID,\n",
        "    location=LOCATION,\n",
        "    staging_bucket=STAGING_BUCKET,\n",
        ")"
      ],
      "metadata": {
        "id": "eHqvFbvjyRUG"
      },
      "execution_count": null,
      "outputs": []
    },
    {
      "cell_type": "markdown",
      "source": [
        "# Develop an AdkApp agent"
      ],
      "metadata": {
        "id": "h1ey_XgwFpOx"
      }
    },
    {
      "cell_type": "markdown",
      "source": [
        "## Step 1: Define and configure a model\n",
        "\n",
        "Define the model version to use"
      ],
      "metadata": {
        "id": "meW7SNrTyCgn"
      }
    },
    {
      "cell_type": "code",
      "source": [
        "model = \"gemini-2.0-flash-001\""
      ],
      "metadata": {
        "id": "hHBIr9zGvkq1"
      },
      "execution_count": null,
      "outputs": []
    },
    {
      "cell_type": "markdown",
      "source": [
        "## Step 2: Define MCP Toolset and Agent"
      ],
      "metadata": {
        "id": "5ybiN24U0CgN"
      }
    },
    {
      "cell_type": "markdown",
      "source": [
        "Follow the example in: https://google.github.io/adk-docs/tools/mcp-tools/#example-1-file-system-mcp-server.\n",
        "\n",
        "\n"
      ],
      "metadata": {
        "id": "RFmkC2wK2NQ9"
      }
    },
    {
      "cell_type": "markdown",
      "source": [
        "AE by default does not install the node.js.\n",
        "To run the npx command/stdio file system server, we setup and run the npx in a bash file."
      ],
      "metadata": {
        "id": "rVLeLIJOzv0k"
      }
    },
    {
      "cell_type": "code",
      "source": [
        "%%writefile setup_and_run_npx.sh\n",
        "#!/bin/bash\n",
        "\n",
        "# Exit immediately if a command exits with a non-zero status.\n",
        "set -e\n",
        "\n",
        "echo \"Starting setup...\"\n",
        "\n",
        "# 1. Install curl\n",
        "echo \"Installing curl...\"\n",
        "apt-get update\n",
        "apt-get install -y curl\n",
        "\n",
        "# 2. Install nvm\n",
        "echo \"Installing nvm...\"\n",
        "curl -o- https://raw.githubusercontent.com/nvm-sh/nvm/v0.39.7/install.sh | bash\n",
        "\n",
        "# 3. Source .bashrc (this is tricky in a script, see notes below)\n",
        "#    For nvm to be available in the *current* script session, we need to source it directly.\n",
        "export NVM_DIR=\"$HOME/.nvm\"\n",
        "[ -s \"$NVM_DIR/nvm.sh\" ] && \\. \"$NVM_DIR/nvm.sh\"  # This loads nvm\n",
        "[ -s \"$NVM_DIR/bash_completion\" ] && \\. \"$NVM_DIR/bash_completion\"  # This loads nvm bash_completion\n",
        "\n",
        "# 4. Make nvm.sh executable\n",
        "echo \"Ensuring nvm.sh is executable...\"\n",
        "chmod +x \"$HOME/.nvm/nvm.sh\"\n",
        "\n",
        "# 5. Install Node.js version\n",
        "echo \"Installing Node.js 20.10.0...\"\n",
        "nvm install 20.10.0\n",
        "\n",
        "echo \"Setup complete. Starting npx server...\"\n",
        "\n",
        "# Now, execute your npx command\n",
        "# The first argument to this script will be the mcp_folder\n",
        "MCP_FOLDER=\"$1\"\n",
        "\n",
        "npx -y @modelcontextprotocol/server-filesystem \"$MCP_FOLDER\""
      ],
      "metadata": {
        "id": "cQk2KRQkzqqR",
        "colab": {
          "base_uri": "https://localhost:8080/"
        },
        "outputId": "12cd8006-60a5-4e54-fed4-3a24f50e19de"
      },
      "execution_count": null,
      "outputs": [
        {
          "output_type": "stream",
          "name": "stdout",
          "text": [
            "Overwriting setup_and_run_npx.sh\n"
          ]
        }
      ]
    },
    {
      "cell_type": "code",
      "source": [
        "!chmod +x ./setup_and_run_npx.sh"
      ],
      "metadata": {
        "id": "fFsIFBuS56ez"
      },
      "execution_count": null,
      "outputs": []
    },
    {
      "cell_type": "markdown",
      "source": [
        "Notice, in Colab enviroment, `sys.stdin`, `sys.stdout`, and `sys.stderr` are replaced with custom stream objects that does not have traditional file descriptors. If we use the default mcp exis_stack from adk, we will get a `fileno` issue.\n",
        "\n",
        "In this case, we explictly define a exit stack with error log file path."
      ],
      "metadata": {
        "id": "boYqxvLQ4Bcz"
      }
    },
    {
      "cell_type": "code",
      "source": [
        "# User provided mcp tools builder.\n",
        "async def mcp_tools_builder(exit_stack):\n",
        "  import os\n",
        "  import shutil\n",
        "  import aiofiles # Colab Enviroment Only.\n",
        "\n",
        "  from google.adk.tools.mcp_tool.mcp_toolset import MCPToolset, StdioServerParameters\n",
        "\n",
        "  # Prepares the MCP folder and file.\n",
        "  # Colab only allow access the \"/content\" folder.\n",
        "  mcp_folder = \"/content/mcp\"\n",
        "  if not os.path.exists(mcp_folder):\n",
        "    os.makedirs(mcp_folder)\n",
        "  test_file_path = os.path.join(mcp_folder, \"test.txt\")\n",
        "  os.environ[\"mcp_file\"] = test_file_path\n",
        "\n",
        "  if not os.path.exists(test_file_path):\n",
        "    with open(test_file_path, \"w\") as f:\n",
        "      f.write(\"Lawrence Dellalio says 'Oh yeah he's winning!'\")\n",
        "\n",
        "  # The following `errlog` section is required by Colab enviroment only.\n",
        "  # Use aiofiles.open for asynchronous file operations\n",
        "  errlog_file_path = os.path.join(mcp_folder, \"error.log\")\n",
        "  errlog = await exit_stack.enter_async_context(\n",
        "      aiofiles.open(errlog_file_path, \"w+\")\n",
        "  )\n",
        "\n",
        "  # Gets tools from MCP Server.\n",
        "  if shutil.which(\"npx\"):\n",
        "    tools, _ = await MCPToolset.from_server(\n",
        "        connection_params=StdioServerParameters(\n",
        "            command='npx',\n",
        "            args=[\n",
        "              \"-y\",\n",
        "              \"@modelcontextprotocol/server-filesystem\",\n",
        "              mcp_folder,\n",
        "            ],\n",
        "        ),\n",
        "        async_exit_stack=exit_stack,\n",
        "        errlog=errlog, # Colab Enviroment Only.\n",
        "    )\n",
        "  else:\n",
        "    # If the current enviroment does not install npx,\n",
        "    # Run the setup_and_run_npx.sh bash to start npx.\n",
        "    tools, _ = await MCPToolset.from_server(\n",
        "        connection_params=StdioServerParameters(\n",
        "            command='bash',\n",
        "            args=[\n",
        "                \"./setup_and_run_npx.sh\",\n",
        "                mcp_folder,\n",
        "            ],\n",
        "        ),\n",
        "        async_exit_stack=exit_stack,\n",
        "        errlog=errlog, # Colab Enviroment Only.\n",
        "    )\n",
        "  return tools"
      ],
      "metadata": {
        "id": "ki0mQ1XM6ZLH"
      },
      "execution_count": null,
      "outputs": []
    },
    {
      "cell_type": "markdown",
      "source": [
        "Session service is required by adk.\n",
        "\n",
        "In non-AE enviroment, the default session service is `in-memory` session.\n",
        "\n",
        "In AE, the default session service is a database based `VertexSession`.\n",
        "\n",
        "To keep the consistent behavior between local and remote, we explictly define an `in-memory` session service builder here."
      ],
      "metadata": {
        "id": "Ua4Pi4TKvHp2"
      }
    },
    {
      "cell_type": "code",
      "source": [
        "def session_service_builder():\n",
        "  \"\"\"Builds the session service to use in the ADK app.\"\"\"\n",
        "\n",
        "  # This is needed to ensure InitGoogle and AdkApp setup is called first.\n",
        "  from google.adk.sessions.in_memory_session_service import InMemorySessionService\n",
        "\n",
        "  # if \"GOOGLE_CLOUD_AGENT_ENGINE_ID\" not in os.environ:\n",
        "  return InMemorySessionService()\n"
      ],
      "metadata": {
        "id": "DV0RQ_vA0Jgf"
      },
      "execution_count": null,
      "outputs": []
    },
    {
      "cell_type": "code",
      "source": [
        "# User provided agent builder.\n",
        "def agent_builder(tools):\n",
        "  from vertexai.preview.reasoning_engines import AdkApp\n",
        "  from google.adk.agents.llm_agent import LlmAgent\n",
        "\n",
        "  return AdkApp(\n",
        "    agent=LlmAgent(\n",
        "        model='gemini-2.0-flash',\n",
        "        name='filesystem_assistant',\n",
        "        instruction=(\n",
        "            'Help user interact with the local filesystem using available tools.'\n",
        "            'Be precise and use the tools provided.'\n",
        "        ),\n",
        "        tools=tools,\n",
        "    ),\n",
        "    session_service_builder=session_service_builder,\n",
        "  )"
      ],
      "metadata": {
        "id": "m24YEpwp7Dja"
      },
      "execution_count": null,
      "outputs": []
    },
    {
      "cell_type": "markdown",
      "source": [
        "## Step 3: Testing Resource Manager locally\n"
      ],
      "metadata": {
        "id": "fXlctmIK3PLr"
      }
    },
    {
      "cell_type": "markdown",
      "source": [
        "To effectively manage the exit stack and asynchronous calls, we've implemented an AgentResourceManager class."
      ],
      "metadata": {
        "id": "Qmsm4wTF_O94"
      }
    },
    {
      "cell_type": "code",
      "source": [
        "%%writefile resource_manager.py\n",
        "class AgentResourcesManager:\n",
        "    def __init__(self, mcp_tools_builder, agent_builder):\n",
        "        self._is_active = False\n",
        "        self._mcp_tools_builder = mcp_tools_builder\n",
        "        self._agent_builder = agent_builder\n",
        "        self._exit_stack = None\n",
        "        self.agent_app = None\n",
        "\n",
        "    async def _setup_agent(self):\n",
        "        if self.agent_app is None and self._exit_stack:\n",
        "            tools = await self._mcp_tools_builder(self._exit_stack)\n",
        "            self.agent_app = self._agent_builder(tools)\n",
        "        elif not self._exit_stack:\n",
        "            raise RuntimeError(\"Attempted to setup agent without an active exit stack.\")\n",
        "\n",
        "    async def __aenter__(self):\n",
        "        import contextlib\n",
        "\n",
        "        if self._is_active:\n",
        "            print(\"DEBUG: AgentResourcesManager.__aenter__ - Already active. This might be an issue.\")\n",
        "            return self\n",
        "\n",
        "        print(\"DEBUG: AgentResourcesManager.__aenter__ - Starting up resources...\")\n",
        "        self._exit_stack = contextlib.AsyncExitStack()\n",
        "        await self._exit_stack.__aenter__()\n",
        "        try:\n",
        "            await self._setup_agent()\n",
        "            self._is_active = True\n",
        "            print(\"DEBUG: AgentResourcesManager is now active.\")\n",
        "            return self\n",
        "        except Exception:\n",
        "            import sys\n",
        "            if self._exit_stack:\n",
        "                await self._exit_stack.__aexit__(*sys.exc_info())\n",
        "                self._exit_stack = None\n",
        "            raise\n",
        "\n",
        "    async def __aexit__(self, exc_type, exc_val, exc_tb):\n",
        "        if not self._is_active:\n",
        "            return False\n",
        "\n",
        "        if not self._exit_stack:\n",
        "            print(\"DEBUG: AgentResourcesManager.__aexit__ - No exit stack to clean. Already exited or error during enter.\")\n",
        "            self._is_active = False\n",
        "            self.agent_app = None\n",
        "            return False\n",
        "\n",
        "\n",
        "        print(\"DEBUG: AgentResourcesManager.__aexit__ - Shutting down resources...\")\n",
        "        self._is_active = False\n",
        "        result = False\n",
        "        try:\n",
        "            result = await self._exit_stack.__aexit__(exc_type, exc_val, exc_tb)\n",
        "        finally:\n",
        "            self._exit_stack = None\n",
        "            self.agent_app = None\n",
        "            print(\"DEBUG: AgentResourcesManager resources shut down.\")\n",
        "        return result\n",
        "\n",
        "    async def async_stream_query(self, user_id, query):\n",
        "        if not self._is_active or not self.agent_app:\n",
        "            raise RuntimeError(\n",
        "                \"AgentResourcesManager is not active or agent_app not initialized. \"\n",
        "                \"Ensure it's used within an 'async with' block.\"\n",
        "            )\n",
        "        async for event in self.agent_app.async_stream_query(user_id=user_id, message=query):\n",
        "            yield event"
      ],
      "metadata": {
        "colab": {
          "base_uri": "https://localhost:8080/"
        },
        "id": "zD15nwTAJjRm",
        "outputId": "5a6ca288-196c-4c79-8bf9-138b61655430"
      },
      "execution_count": null,
      "outputs": [
        {
          "output_type": "stream",
          "name": "stdout",
          "text": [
            "Overwriting resource_manager.py\n"
          ]
        }
      ]
    },
    {
      "cell_type": "code",
      "source": [
        "from resource_manager import AgentResourcesManager"
      ],
      "metadata": {
        "id": "70D017WCJ_9v"
      },
      "execution_count": null,
      "outputs": []
    },
    {
      "cell_type": "code",
      "source": [
        "import os\n",
        "\n",
        "manager = AgentResourcesManager(\n",
        "    mcp_tools_builder=mcp_tools_builder,\n",
        "    agent_builder=agent_builder,\n",
        ")\n",
        "\n",
        "mcp_file_path = \"\" # Will be set by mcp_tools_builder\n",
        "\n",
        "async with manager:\n",
        "    mcp_file_path = os.environ.get(\"mcp_file\")\n",
        "    print(f\"\\n--- Querying agent for file: {mcp_file_path} ---\")\n",
        "    try:\n",
        "        async for event in manager.async_stream_query(\n",
        "            user_id=\"syang\",\n",
        "            query=f\"\"\"\n",
        "            Read the contents of the file '{mcp_file_path}',\n",
        "            find what Lawrence Dellalio says.\n",
        "            Give me just the quote.\n",
        "            \"\"\",\n",
        "        ):\n",
        "            print(event)\n",
        "    except Exception as e:\n",
        "        print(f\"An error occurred during async_stream_query: {e}\")\n",
        "        import traceback\n",
        "        traceback.print_exc()"
      ],
      "metadata": {
        "id": "GcokkQrw-NO3",
        "colab": {
          "base_uri": "https://localhost:8080/"
        },
        "outputId": "79626d0a-578a-4fa2-8421-95953f88d238"
      },
      "execution_count": null,
      "outputs": [
        {
          "output_type": "stream",
          "name": "stdout",
          "text": [
            "DEBUG: AgentResourcesManager.__aenter__ - Starting up resources...\n",
            "DEBUG: AgentResourcesManager is now active.\n",
            "\n",
            "--- Querying agent for file: /content/mcp/test.txt ---\n"
          ]
        },
        {
          "output_type": "stream",
          "name": "stderr",
          "text": [
            "WARNING:google_genai.types:Warning: there are non-text parts in the response: ['function_call'], returning concatenated text result from text parts. Check the full candidates.content.parts accessor to get the full model response.\n"
          ]
        },
        {
          "output_type": "stream",
          "name": "stdout",
          "text": [
            "{'content': {'parts': [{'function_call': {'id': 'adk-1e21c1fd-6b02-456e-b6e1-4b08dfb04123', 'args': {'path': '/content/mcp/test.txt'}, 'name': 'read_file'}}], 'role': 'model'}, 'invocation_id': 'e-6b7060ad-103e-460f-b83f-e28b64a06b49', 'author': 'filesystem_assistant', 'actions': {'state_delta': {}, 'artifact_delta': {}, 'requested_auth_configs': {}}, 'long_running_tool_ids': set(), 'id': 'nUJBlhLP', 'timestamp': 1747886954.049095}\n",
            "{'content': {'parts': [{'function_response': {'id': 'adk-1e21c1fd-6b02-456e-b6e1-4b08dfb04123', 'name': 'read_file', 'response': {'result': {'content': [{'type': 'text', 'text': \"Lawrence Dellalio says 'Oh yeah he's winning!'\"}], 'isError': False}}}}], 'role': 'user'}, 'invocation_id': 'e-6b7060ad-103e-460f-b83f-e28b64a06b49', 'author': 'filesystem_assistant', 'actions': {'state_delta': {}, 'artifact_delta': {}, 'requested_auth_configs': {}}, 'id': '6IiJ8dwH', 'timestamp': 1747886955.188378}\n",
            "{'content': {'parts': [{'text': \"Lawrence Dellalio says 'Oh yeah he's winning!'\\n\"}], 'role': 'model'}, 'invocation_id': 'e-6b7060ad-103e-460f-b83f-e28b64a06b49', 'author': 'filesystem_assistant', 'actions': {'state_delta': {}, 'artifact_delta': {}, 'requested_auth_configs': {}}, 'id': 'vavfAE03', 'timestamp': 1747886955.191118}\n",
            "DEBUG: AgentResourcesManager.__aexit__ - Shutting down resources...\n",
            "DEBUG: AgentResourcesManager resources shut down.\n"
          ]
        }
      ]
    },
    {
      "cell_type": "markdown",
      "source": [
        "## Step 4: Wrap Resource Manager as Agent Engine App\n"
      ],
      "metadata": {
        "id": "On1XForWDBJc"
      }
    },
    {
      "cell_type": "code",
      "source": [
        "class AEApp:\n",
        "    def __init__(self, mcp_tools_builder, agent_builder):\n",
        "        self._mcp_tools_builder = mcp_tools_builder\n",
        "        self._agent_builder = agent_builder\n",
        "        self._manager = None\n",
        "\n",
        "    def set_up(self):\n",
        "        self._manager = AgentResourcesManager(\n",
        "            mcp_tools_builder=self._mcp_tools_builder,\n",
        "            agent_builder=self._agent_builder,\n",
        "        )\n",
        "\n",
        "    async def async_stream_query(self, user_id, query):\n",
        "        if not self._manager:\n",
        "            self.set_up()\n",
        "        async with self._manager:\n",
        "            async for event in self._manager.async_stream_query(user_id, query):\n",
        "                yield event"
      ],
      "metadata": {
        "id": "ZQTLgtrjDIFz"
      },
      "execution_count": null,
      "outputs": []
    },
    {
      "cell_type": "code",
      "source": [
        "app = AEApp(\n",
        "    mcp_tools_builder=mcp_tools_builder,\n",
        "    agent_builder=agent_builder,\n",
        ")\n",
        "app.set_up()\n",
        "\n",
        "async for event in app.async_stream_query(\n",
        "    user_id=\"syang\",\n",
        "    query=f\"\"\"\n",
        "    Read the contents of the file '{mcp_file_path}',\n",
        "    find what Lawrence Dellalio says.\n",
        "    Give me just the quote.\n",
        "    \"\"\",\n",
        "):\n",
        "    print(event)"
      ],
      "metadata": {
        "id": "ouWxzDXMDJHg",
        "colab": {
          "base_uri": "https://localhost:8080/"
        },
        "outputId": "42cb476c-9197-4c8e-8c79-131c1743bc3d"
      },
      "execution_count": null,
      "outputs": [
        {
          "output_type": "stream",
          "name": "stdout",
          "text": [
            "DEBUG: AgentResourcesManager.__aenter__ - Starting up resources...\n",
            "DEBUG: AgentResourcesManager is now active.\n"
          ]
        },
        {
          "output_type": "stream",
          "name": "stderr",
          "text": [
            "WARNING:google_genai.types:Warning: there are non-text parts in the response: ['function_call'], returning concatenated text result from text parts. Check the full candidates.content.parts accessor to get the full model response.\n"
          ]
        },
        {
          "output_type": "stream",
          "name": "stdout",
          "text": [
            "{'content': {'parts': [{'function_call': {'id': 'adk-d4f11dae-9109-45db-893d-83df6aee0f15', 'args': {'path': '/content/mcp/test.txt'}, 'name': 'read_file'}}], 'role': 'model'}, 'invocation_id': 'e-51d82c6f-8647-43ca-97e0-9f8a0732b18c', 'author': 'filesystem_assistant', 'actions': {'state_delta': {}, 'artifact_delta': {}, 'requested_auth_configs': {}}, 'long_running_tool_ids': set(), 'id': 'SI4yycUP', 'timestamp': 1747886968.382106}\n",
            "{'content': {'parts': [{'function_response': {'id': 'adk-d4f11dae-9109-45db-893d-83df6aee0f15', 'name': 'read_file', 'response': {'result': {'content': [{'type': 'text', 'text': \"Lawrence Dellalio says 'Oh yeah he's winning!'\"}], 'isError': False}}}}], 'role': 'user'}, 'invocation_id': 'e-51d82c6f-8647-43ca-97e0-9f8a0732b18c', 'author': 'filesystem_assistant', 'actions': {'state_delta': {}, 'artifact_delta': {}, 'requested_auth_configs': {}}, 'id': 'lGqwchnV', 'timestamp': 1747886969.516037}\n",
            "{'content': {'parts': [{'text': \"Lawrence Dellalio says 'Oh yeah he's winning!'\\n\"}], 'role': 'model'}, 'invocation_id': 'e-51d82c6f-8647-43ca-97e0-9f8a0732b18c', 'author': 'filesystem_assistant', 'actions': {'state_delta': {}, 'artifact_delta': {}, 'requested_auth_configs': {}}, 'id': 'G8BUnFFo', 'timestamp': 1747886969.518438}\n",
            "DEBUG: AgentResourcesManager.__aexit__ - Shutting down resources...\n",
            "DEBUG: AgentResourcesManager resources shut down.\n"
          ]
        }
      ]
    },
    {
      "cell_type": "markdown",
      "source": [
        "# Deploy an Agent\n",
        "\n",
        "https://cloud.google.com/vertex-ai/generative-ai/docs/agent-engine/deploy#package-requirements\n",
        "\n",
        "**Remark** (specific to ADK): The automatic provisioning of permissions for Vertex AI Sessions have not rolled out yet, so you'll have to follow https://cloud.google.com/vertex-ai/generative-ai/docs/agent-engine/set-up#service-agent in the meantime to grant \"Vertex AI User\" (`roles/aiplatform.user`) to the service account in your GCP project"
      ],
      "metadata": {
        "id": "VijvAI4TZp8H"
      }
    },
    {
      "cell_type": "code",
      "source": [
        "remote_app = agent_engines.create(\n",
        "    AEApp(\n",
        "        mcp_tools_builder=mcp_tools_builder,\n",
        "        agent_builder=agent_builder,\n",
        "    ),\n",
        "    requirements=[\n",
        "        \"google-cloud-aiplatform[agent_engines,adk] @ git+https://github.com/googleapis/python-aiplatform.git@copybara_756896866\",\n",
        "        \"aiofiles\",\n",
        "    ],\n",
        "    extra_packages=[\n",
        "        \"resource_manager.py\",\n",
        "        \"setup_and_run_npx.sh\",\n",
        "    ],\n",
        ")"
      ],
      "metadata": {
        "id": "enNZwvEUXt6o"
      },
      "execution_count": null,
      "outputs": []
    },
    {
      "cell_type": "markdown",
      "source": [
        "## Supported operations\n",
        "\n",
        "The following operations are supported:\n",
        "\n",
        "* `async_stream_query`: for async streaming a response to a query."
      ],
      "metadata": {
        "id": "0duyePpGGpwr"
      }
    },
    {
      "cell_type": "code",
      "source": [
        "import pprint\n",
        "\n",
        "pprint.pprint(remote_app.operation_schemas())"
      ],
      "metadata": {
        "id": "6lviXEuUlTkP",
        "collapsed": true
      },
      "execution_count": null,
      "outputs": []
    },
    {
      "cell_type": "markdown",
      "source": [
        "## Async Stream a response to a query"
      ],
      "metadata": {
        "id": "TaPLOAZS96v2"
      }
    },
    {
      "cell_type": "code",
      "source": [
        "async for event in remote_app.async_stream_query(\n",
        "    user_id=\"syang\",\n",
        "    query=f\"\"\"\n",
        "    Read the contents of the file '{mcp_file_path}',\n",
        "    find what Lawrence Dellalio says.\n",
        "    Give me just the quote.\n",
        "    \"\"\",\n",
        "):\n",
        "    print(event)"
      ],
      "metadata": {
        "id": "CguC9Zai96v2"
      },
      "execution_count": null,
      "outputs": []
    },
    {
      "cell_type": "markdown",
      "source": [
        "# Clean up\n",
        "\n",
        "https://cloud.google.com/vertex-ai/generative-ai/docs/agent-engine/quickstart#clean-up"
      ],
      "metadata": {
        "id": "Q80NTTyGs939"
      }
    },
    {
      "cell_type": "code",
      "source": [
        "remote_app.delete(force=True)"
      ],
      "metadata": {
        "id": "GCel9M-YsdUr"
      },
      "execution_count": null,
      "outputs": []
    }
  ]
}